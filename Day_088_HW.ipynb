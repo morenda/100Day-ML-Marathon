{
 "cells": [
  {
   "cell_type": "markdown",
   "metadata": {},
   "source": [
    "## Work\n",
    "1. 請嘗試寫一個 callback 用來記錄各類別在訓練過程中，對驗證集的 True Positive 與 True Negative"
   ]
  },
  {
   "cell_type": "code",
   "execution_count": 1,
   "metadata": {},
   "outputs": [
    {
     "name": "stderr",
     "output_type": "stream",
     "text": [
      "Using TensorFlow backend.\n"
     ]
    }
   ],
   "source": [
    "import os\n",
    "import keras\n",
    "\n",
    "# Disable GPU\n",
    "os.environ[\"CUDA_VISIBLE_DEVICES\"] = \"\""
   ]
  },
  {
   "cell_type": "code",
   "execution_count": 2,
   "metadata": {},
   "outputs": [],
   "source": [
    "train, test = keras.datasets.cifar10.load_data()"
   ]
  },
  {
   "cell_type": "code",
   "execution_count": 3,
   "metadata": {},
   "outputs": [],
   "source": [
    "## 資料前處理\n",
    "def preproc_x(x, flatten=True):\n",
    "    x = x / 255.\n",
    "    if flatten:\n",
    "        x = x.reshape((len(x), -1))\n",
    "    return x\n",
    "\n",
    "def preproc_y(y, num_classes=10):\n",
    "    if y.shape[-1] == 1:\n",
    "        y = keras.utils.to_categorical(y, num_classes)\n",
    "    return y    "
   ]
  },
  {
   "cell_type": "code",
   "execution_count": 4,
   "metadata": {},
   "outputs": [],
   "source": [
    "x_train, y_train = train\n",
    "x_test, y_test = test\n",
    "\n",
    "# Preproc the inputs\n",
    "x_train = preproc_x(x_train)\n",
    "x_test = preproc_x(x_test)\n",
    "\n",
    "# Preprc the outputs\n",
    "y_train = preproc_y(y_train)\n",
    "y_test = preproc_y(y_test)"
   ]
  },
  {
   "cell_type": "code",
   "execution_count": 5,
   "metadata": {},
   "outputs": [],
   "source": [
    "from keras.layers import BatchNormalization\n",
    "def build_mlp(input_shape, output_units=10, num_neurons=[256, 256, 256]):\n",
    "    input_layer = keras.layers.Input(input_shape)\n",
    "    \n",
    "    for i, n_units in enumerate(num_neurons):\n",
    "        if i == 0:\n",
    "            x = keras.layers.Dense(units=n_units, \n",
    "                                   activation=\"relu\", \n",
    "                                   name=\"hidden_layer\"+str(i+1))(input_layer)\n",
    "            x = BatchNormalization()(x)\n",
    "        else:\n",
    "            x = keras.layers.Dense(units=n_units, \n",
    "                                   activation=\"relu\", \n",
    "                                   name=\"hidden_layer\"+str(i+1))(x)\n",
    "            x = BatchNormalization()(x)\n",
    "    \n",
    "    out = keras.layers.Dense(units=output_units, activation=\"softmax\", name=\"output\")(x)\n",
    "    \n",
    "    model = keras.models.Model(inputs=[input_layer], outputs=[out])\n",
    "    return model"
   ]
  },
  {
   "cell_type": "code",
   "execution_count": 6,
   "metadata": {},
   "outputs": [],
   "source": [
    "## 超參數設定\n",
    "LEARNING_RATE = 1e-3\n",
    "EPOCHS = 25\n",
    "BATCH_SIZE = 1024\n",
    "MOMENTUM = 0.95"
   ]
  },
  {
   "cell_type": "code",
   "execution_count": 7,
   "metadata": {},
   "outputs": [],
   "source": [
    "# 載入 Callbacks\n",
    "from keras.callbacks import Callback\n",
    "\n",
    "# Record_fp_tp\n",
    "class Record_tp_tn(Callback):\n",
    "    \"\"\"Code Here\n",
    "    撰寫一個紀錄 ture positive 與 true negative 數量的 callbacks    \n",
    "    \"\"\"\n",
    "    def on_train_begin(self, epoch, logs = {}):\n",
    "        logs = logs or {}\n",
    "        record_items = [\"val_tp\", \"val_tn\"]\n",
    "        for i in record_items:\n",
    "            if i not in self.params['metrics']:\n",
    "                self.params['metrics'].append(i)\n",
    "    \n",
    "    def on_epoch_end(self, epoch, logs = {}, thres=0.5):\n",
    "        logs = logs or {}\n",
    "        y_true = self.validation_data[1].argmax(axis = 1)\n",
    "        y_pred = self.model.predict(self.validation_data[0])\n",
    "        y_pred = (y_pred[:, 1] >= thres) * 1\n",
    "        \n",
    "        val_tp = sum(y_true*y_pred)\n",
    "        val_tn = sum((y_true==0) & (y_pred==0))\n",
    "        \n",
    "        logs[\"val_tp\"] = val_tp\n",
    "        logs[\"val_tn\"] = val_tn\n",
    "        \n",
    "rec_tptn = Record_tp_tn()"
   ]
  },
  {
   "cell_type": "code",
   "execution_count": 8,
   "metadata": {
    "scrolled": true
   },
   "outputs": [
    {
     "name": "stdout",
     "output_type": "stream",
     "text": [
      "Model: \"model_1\"\n",
      "_________________________________________________________________\n",
      "Layer (type)                 Output Shape              Param #   \n",
      "=================================================================\n",
      "input_1 (InputLayer)         (None, 3072)              0         \n",
      "_________________________________________________________________\n",
      "hidden_layer1 (Dense)        (None, 256)               786688    \n",
      "_________________________________________________________________\n",
      "batch_normalization_1 (Batch (None, 256)               1024      \n",
      "_________________________________________________________________\n",
      "hidden_layer2 (Dense)        (None, 256)               65792     \n",
      "_________________________________________________________________\n",
      "batch_normalization_2 (Batch (None, 256)               1024      \n",
      "_________________________________________________________________\n",
      "hidden_layer3 (Dense)        (None, 256)               65792     \n",
      "_________________________________________________________________\n",
      "batch_normalization_3 (Batch (None, 256)               1024      \n",
      "_________________________________________________________________\n",
      "output (Dense)               (None, 10)                2570      \n",
      "=================================================================\n",
      "Total params: 923,914\n",
      "Trainable params: 922,378\n",
      "Non-trainable params: 1,536\n",
      "_________________________________________________________________\n",
      "Train on 50000 samples, validate on 10000 samples\n",
      "Epoch 1/25\n",
      "50000/50000 [==============================] - 3s 67us/step - loss: 0.3707 - accuracy: 0.8874 - val_loss: 0.3181 - val_accuracy: 0.9000\n",
      "Epoch 2/25\n",
      "50000/50000 [==============================] - 3s 58us/step - loss: 0.3173 - accuracy: 0.8943 - val_loss: 0.3065 - val_accuracy: 0.9000\n",
      "Epoch 3/25\n",
      "50000/50000 [==============================] - 3s 59us/step - loss: 0.2972 - accuracy: 0.8980 - val_loss: 0.2964 - val_accuracy: 0.9002\n",
      "Epoch 4/25\n",
      "50000/50000 [==============================] - 3s 58us/step - loss: 0.2856 - accuracy: 0.9004 - val_loss: 0.2865 - val_accuracy: 0.9009\n",
      "Epoch 5/25\n",
      "50000/50000 [==============================] - 3s 58us/step - loss: 0.2779 - accuracy: 0.9021 - val_loss: 0.2782 - val_accuracy: 0.9023\n",
      "Epoch 6/25\n",
      "50000/50000 [==============================] - 3s 58us/step - loss: 0.2718 - accuracy: 0.9031 - val_loss: 0.2720 - val_accuracy: 0.9033\n",
      "Epoch 7/25\n",
      "50000/50000 [==============================] - 3s 59us/step - loss: 0.2670 - accuracy: 0.9043 - val_loss: 0.2679 - val_accuracy: 0.9040\n",
      "Epoch 8/25\n",
      "50000/50000 [==============================] - 3s 60us/step - loss: 0.2630 - accuracy: 0.9053 - val_loss: 0.2652 - val_accuracy: 0.9047\n",
      "Epoch 9/25\n",
      "50000/50000 [==============================] - 3s 58us/step - loss: 0.2595 - accuracy: 0.9061 - val_loss: 0.2631 - val_accuracy: 0.9052\n",
      "Epoch 10/25\n",
      "50000/50000 [==============================] - 3s 59us/step - loss: 0.2565 - accuracy: 0.9070 - val_loss: 0.2611 - val_accuracy: 0.9058\n",
      "Epoch 11/25\n",
      "50000/50000 [==============================] - 3s 59us/step - loss: 0.2539 - accuracy: 0.9076 - val_loss: 0.2601 - val_accuracy: 0.9056\n",
      "Epoch 12/25\n",
      "50000/50000 [==============================] - 3s 58us/step - loss: 0.2514 - accuracy: 0.9081 - val_loss: 0.2585 - val_accuracy: 0.9058\n",
      "Epoch 13/25\n",
      "50000/50000 [==============================] - 3s 58us/step - loss: 0.2492 - accuracy: 0.9089 - val_loss: 0.2569 - val_accuracy: 0.9066\n",
      "Epoch 14/25\n",
      "50000/50000 [==============================] - 3s 58us/step - loss: 0.2472 - accuracy: 0.9095 - val_loss: 0.2559 - val_accuracy: 0.9065\n",
      "Epoch 15/25\n",
      "50000/50000 [==============================] - 3s 60us/step - loss: 0.2452 - accuracy: 0.9099 - val_loss: 0.2549 - val_accuracy: 0.9067\n",
      "Epoch 16/25\n",
      "50000/50000 [==============================] - 3s 60us/step - loss: 0.2434 - accuracy: 0.9105 - val_loss: 0.2538 - val_accuracy: 0.9071\n",
      "Epoch 17/25\n",
      "50000/50000 [==============================] - 3s 60us/step - loss: 0.2418 - accuracy: 0.9110 - val_loss: 0.2529 - val_accuracy: 0.9075\n",
      "Epoch 18/25\n",
      "50000/50000 [==============================] - 3s 60us/step - loss: 0.2401 - accuracy: 0.9114 - val_loss: 0.2520 - val_accuracy: 0.9074\n",
      "Epoch 19/25\n",
      "50000/50000 [==============================] - 3s 62us/step - loss: 0.2386 - accuracy: 0.9119 - val_loss: 0.2510 - val_accuracy: 0.9077\n",
      "Epoch 20/25\n",
      "50000/50000 [==============================] - 3s 63us/step - loss: 0.2371 - accuracy: 0.9123 - val_loss: 0.2501 - val_accuracy: 0.9077\n",
      "Epoch 21/25\n",
      "50000/50000 [==============================] - 3s 62us/step - loss: 0.2359 - accuracy: 0.9127 - val_loss: 0.2494 - val_accuracy: 0.9082\n",
      "Epoch 22/25\n",
      "50000/50000 [==============================] - 3s 62us/step - loss: 0.2344 - accuracy: 0.9132 - val_loss: 0.2482 - val_accuracy: 0.9082\n",
      "Epoch 23/25\n",
      "50000/50000 [==============================] - 3s 63us/step - loss: 0.2332 - accuracy: 0.9136 - val_loss: 0.2476 - val_accuracy: 0.9086\n",
      "Epoch 24/25\n",
      "50000/50000 [==============================] - 3s 65us/step - loss: 0.2319 - accuracy: 0.9140 - val_loss: 0.2467 - val_accuracy: 0.9088\n",
      "Epoch 25/25\n",
      "50000/50000 [==============================] - 3s 65us/step - loss: 0.2307 - accuracy: 0.9143 - val_loss: 0.2460 - val_accuracy: 0.9094\n"
     ]
    }
   ],
   "source": [
    "model = build_mlp(input_shape=x_train.shape[1:])\n",
    "model.summary()\n",
    "optimizer = keras.optimizers.SGD(lr=LEARNING_RATE, nesterov=True, momentum=MOMENTUM)\n",
    "model.compile(loss=\"binary_crossentropy\", metrics=[\"accuracy\"], optimizer=optimizer)\n",
    "\n",
    "\"\"\"Code Here\n",
    "將 callbacks 放入模型訓練流程中\n",
    "\"\"\"\n",
    "model.fit(x_train, y_train, \n",
    "          epochs=EPOCHS, \n",
    "          batch_size=BATCH_SIZE, \n",
    "          validation_data=(x_test, y_test), \n",
    "          shuffle=True,\n",
    "          callbacks=[rec_tptn])\n",
    "# Collect results\n",
    "train_loss = model.history.history[\"loss\"]\n",
    "valid_loss = model.history.history[\"val_loss\"]\n",
    "train_acc = model.history.history[\"accuracy\"]\n",
    "valid_acc = model.history.history[\"val_accuracy\"]\n",
    "\n",
    "\"\"\"Code Here\n",
    "將 tp/tn 從訓練完的模型中取出\n",
    "\"\"\"\n",
    "valid_tp = model.history.history['val_tp']\n",
    "valid_tn = model.history.history['val_tn']"
   ]
  },
  {
   "cell_type": "code",
   "execution_count": 9,
   "metadata": {},
   "outputs": [
    {
     "data": {
      "image/png": "[encoded data removed]",
      "text/plain": [
       "<Figure size 432x288 with 1 Axes>"
      ]
     },
     "metadata": {
      "needs_background": "light"
     },
     "output_type": "display_data"
    },
    {
     "data": {
      "image/png": "[encoded data removed]",
      "text/plain": [
       "<Figure size 432x288 with 1 Axes>"
      ]
     },
     "metadata": {
      "needs_background": "light"
     },
     "output_type": "display_data"
    },
    {
     "data": {
      "image/png": "[encoded data removed]",
      "text/plain": [
       "<Figure size 432x288 with 1 Axes>"
      ]
     },
     "metadata": {
      "needs_background": "light"
     },
     "output_type": "display_data"
    }
   ],
   "source": [
    "import matplotlib.pyplot as plt\n",
    "%matplotlib inline\n",
    "\n",
    "plt.plot(range(len(train_loss)), train_loss, label=\"train loss\")\n",
    "plt.plot(range(len(valid_loss)), valid_loss, label=\"valid loss\")\n",
    "plt.legend()\n",
    "plt.title(\"Loss\")\n",
    "plt.show()\n",
    "\n",
    "plt.plot(range(len(train_acc)), train_acc, label=\"train accuracy\")\n",
    "plt.plot(range(len(valid_acc)), valid_acc, label=\"valid accuracy\")\n",
    "plt.legend()\n",
    "plt.title(\"Accuracy\")\n",
    "plt.show()\n",
    "\n",
    "plt.plot(range(len(valid_tp)), valid_tp, label=\"valid tp\", color=\"navy\")\n",
    "plt.plot(range(len(valid_tn)), valid_tn, label=\"valid tn\", color=\"red\")\n",
    "plt.legend()\n",
    "plt.title(\"True positives and True Negatives\")\n",
    "plt.show()\n"
   ]
  },
  {
   "cell_type": "code",
   "execution_count": null,
   "metadata": {},
   "outputs": [],
   "source": []
  }
 ],
 "metadata": {
  "kernelspec": {
   "display_name": "Python 3",
   "language": "python",
   "name": "python3"
  },
  "language_info": {
   "codemirror_mode": {
    "name": "ipython",
    "version": 3
   },
   "file_extension": ".py",
   "mimetype": "text/x-python",
   "name": "python",
   "nbconvert_exporter": "python",
   "pygments_lexer": "ipython3",
   "version": "3.7.1"
  }
 },
 "nbformat": 4,
 "nbformat_minor": 2
}
