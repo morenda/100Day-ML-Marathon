{
 "cells": [
  {
   "cell_type": "code",
   "execution_count": 45,
   "metadata": {},
   "outputs": [],
   "source": [
    "import keras\n",
    "from keras.datasets import cifar10\n",
    "import numpy as np\n",
    "np.random.seed(10)"
   ]
  },
  {
   "cell_type": "code",
   "execution_count": 46,
   "metadata": {},
   "outputs": [],
   "source": [
    "(x_img_train, y_label_train), (x_img_test, y_label_test) = cifar10.load_data()"
   ]
  },
  {
   "cell_type": "code",
   "execution_count": 47,
   "metadata": {},
   "outputs": [
    {
     "name": "stdout",
     "output_type": "stream",
     "text": [
      "train data : images : (50000, 32, 32, 3) labels : (50000, 1)\n",
      " test data : images : (10000, 32, 32, 3) labels : (10000, 1)\n"
     ]
    }
   ],
   "source": [
    "print(\"train data :\", \"images :\", x_img_train.shape, \"labels :\", y_label_train.shape)\n",
    "print(\" test data :\", \"images :\", x_img_test.shape, \"labels :\", y_label_test.shape)"
   ]
  },
  {
   "cell_type": "code",
   "execution_count": 48,
   "metadata": {},
   "outputs": [],
   "source": [
    "x_img_train_normalize = x_img_train.astype('float32')/255.0\n",
    "x_img_test_normalize = x_img_test.astype('float32')/255.0"
   ]
  },
  {
   "cell_type": "code",
   "execution_count": 49,
   "metadata": {},
   "outputs": [
    {
     "data": {
      "text/plain": [
       "(10000, 10)"
      ]
     },
     "execution_count": 49,
     "metadata": {},
     "output_type": "execute_result"
    }
   ],
   "source": [
    "from keras.utils import np_utils\n",
    "y_label_train_OneHot = np_utils.to_categorical(y_label_train)\n",
    "y_label_test_OneHot = np_utils.to_categorical(y_label_test)\n",
    "y_label_test_OneHot.shape"
   ]
  },
  {
   "cell_type": "code",
   "execution_count": 50,
   "metadata": {},
   "outputs": [],
   "source": [
    "from keras.models import Model, Sequential\n",
    "from keras.layers import Activation, Dense, Dropout, Flatten, Conv2D, MaxPooling2D, ZeroPadding2D"
   ]
  },
  {
   "cell_type": "code",
   "execution_count": 51,
   "metadata": {},
   "outputs": [],
   "source": [
    "model = Sequential()"
   ]
  },
  {
   "cell_type": "code",
   "execution_count": 52,
   "metadata": {},
   "outputs": [],
   "source": [
    "model.add(Conv2D(filters=32,\n",
    "                 kernel_size=(3,3),\n",
    "                 input_shape=(32, 32,3), \n",
    "                 activation='relu', \n",
    "                 padding='same'))\n",
    "model.add(Dropout(0.25))\n",
    "model.add(MaxPooling2D(pool_size=(2, 2)))"
   ]
  },
  {
   "cell_type": "code",
   "execution_count": 53,
   "metadata": {},
   "outputs": [],
   "source": [
    "model.add(Conv2D(filters=64, \n",
    "                 kernel_size=(3, 3), \n",
    "                 activation='relu', \n",
    "                 padding='same'))\n",
    "model.add(Dropout(0.25))\n",
    "model.add(MaxPooling2D(pool_size=(2, 2)))"
   ]
  },
  {
   "cell_type": "code",
   "execution_count": 54,
   "metadata": {},
   "outputs": [],
   "source": [
    "model.add(Flatten())\n",
    "model.add(Dropout(0.25))"
   ]
  },
  {
   "cell_type": "code",
   "execution_count": 55,
   "metadata": {},
   "outputs": [],
   "source": [
    "model.add(Dense(1024, activation='relu'))\n",
    "model.add(Dropout(0.25))"
   ]
  },
  {
   "cell_type": "code",
   "execution_count": 56,
   "metadata": {},
   "outputs": [],
   "source": [
    "model.add(Dense(10, activation='softmax'))"
   ]
  },
  {
   "cell_type": "code",
   "execution_count": 57,
   "metadata": {},
   "outputs": [
    {
     "name": "stdout",
     "output_type": "stream",
     "text": [
      "Model: \"sequential_3\"\n",
      "_________________________________________________________________\n",
      "Layer (type)                 Output Shape              Param #   \n",
      "=================================================================\n",
      "conv2d_7 (Conv2D)            (None, 32, 32, 32)        896       \n",
      "_________________________________________________________________\n",
      "dropout_13 (Dropout)         (None, 32, 32, 32)        0         \n",
      "_________________________________________________________________\n",
      "max_pooling2d_7 (MaxPooling2 (None, 16, 16, 32)        0         \n",
      "_________________________________________________________________\n",
      "conv2d_8 (Conv2D)            (None, 16, 16, 64)        18496     \n",
      "_________________________________________________________________\n",
      "dropout_14 (Dropout)         (None, 16, 16, 64)        0         \n",
      "_________________________________________________________________\n",
      "max_pooling2d_8 (MaxPooling2 (None, 8, 8, 64)          0         \n",
      "_________________________________________________________________\n",
      "flatten_3 (Flatten)          (None, 4096)              0         \n",
      "_________________________________________________________________\n",
      "dropout_15 (Dropout)         (None, 4096)              0         \n",
      "_________________________________________________________________\n",
      "dense_7 (Dense)              (None, 1024)              4195328   \n",
      "_________________________________________________________________\n",
      "dropout_16 (Dropout)         (None, 1024)              0         \n",
      "_________________________________________________________________\n",
      "dense_8 (Dense)              (None, 10)                10250     \n",
      "=================================================================\n",
      "Total params: 4,224,970\n",
      "Trainable params: 4,224,970\n",
      "Non-trainable params: 0\n",
      "_________________________________________________________________\n",
      "None\n"
     ]
    }
   ],
   "source": [
    "print(model.summary())"
   ]
  },
  {
   "cell_type": "code",
   "execution_count": 58,
   "metadata": {},
   "outputs": [
    {
     "name": "stdout",
     "output_type": "stream",
     "text": [
      "載入模型失敗!開始訓練一個新模型\n"
     ]
    }
   ],
   "source": [
    "try:\n",
    "    model.load_weights(\"SaveModel/cifarCnnModel.h5\")\n",
    "    print(\"載入模型成功!繼續訓練模型\")\n",
    "except :    \n",
    "    print(\"載入模型失敗!開始訓練一個新模型\")"
   ]
  },
  {
   "cell_type": "markdown",
   "metadata": {},
   "source": [
    "# 作業:\n",
    "## 請分別選用 \"binary _crossentropy\", \"MSE\",  查看Train/test accurancy and loss rate"
   ]
  },
  {
   "cell_type": "code",
   "execution_count": 59,
   "metadata": {},
   "outputs": [
    {
     "name": "stdout",
     "output_type": "stream",
     "text": [
      "Train on 40000 samples, validate on 10000 samples\n",
      "Epoch 1/10\n",
      "40000/40000 [==============================] - 151s 4ms/step - loss: 0.2191 - accuracy: 0.9158 - val_loss: 0.1859 - val_accuracy: 0.9268\n",
      "Epoch 2/10\n",
      "40000/40000 [==============================] - 186s 5ms/step - loss: 0.1741 - accuracy: 0.9314 - val_loss: 0.1664 - val_accuracy: 0.9347\n",
      "Epoch 3/10\n",
      "40000/40000 [==============================] - 228s 6ms/step - loss: 0.1520 - accuracy: 0.9400 - val_loss: 0.1530 - val_accuracy: 0.9397\n",
      "Epoch 4/10\n",
      "40000/40000 [==============================] - 229s 6ms/step - loss: 0.1358 - accuracy: 0.9469 - val_loss: 0.1444 - val_accuracy: 0.9447\n",
      "Epoch 5/10\n",
      "40000/40000 [==============================] - 229s 6ms/step - loss: 0.1213 - accuracy: 0.9525 - val_loss: 0.1416 - val_accuracy: 0.9455\n",
      "Epoch 6/10\n",
      "40000/40000 [==============================] - 231s 6ms/step - loss: 0.1093 - accuracy: 0.9575 - val_loss: 0.1351 - val_accuracy: 0.9480\n",
      "Epoch 7/10\n",
      "40000/40000 [==============================] - 231s 6ms/step - loss: 0.0990 - accuracy: 0.9618 - val_loss: 0.1407 - val_accuracy: 0.9449\n",
      "Epoch 8/10\n",
      "40000/40000 [==============================] - 235s 6ms/step - loss: 0.0906 - accuracy: 0.9650 - val_loss: 0.1310 - val_accuracy: 0.9497\n",
      "Epoch 9/10\n",
      "40000/40000 [==============================] - 232s 6ms/step - loss: 0.0822 - accuracy: 0.9683 - val_loss: 0.1408 - val_accuracy: 0.9460\n",
      "Epoch 10/10\n",
      "40000/40000 [==============================] - 227s 6ms/step - loss: 0.0753 - accuracy: 0.9712 - val_loss: 0.1328 - val_accuracy: 0.9490\n"
     ]
    }
   ],
   "source": [
    "model.compile(loss='binary_crossentropy', \n",
    "              optimizer='adam', \n",
    "              metrics=['accuracy'])\n",
    "train_history=model.fit(x_img_train_normalize, y_label_train_OneHot,\n",
    "                        validation_split=0.2,\n",
    "                        epochs=10, batch_size=20, verbose=1) "
   ]
  },
  {
   "cell_type": "code",
   "execution_count": 60,
   "metadata": {},
   "outputs": [],
   "source": [
    "import matplotlib.pyplot as plt\n",
    "%matplotlib inline\n",
    "\n",
    "#定義一個繪圖函數\n",
    "import matplotlib.pyplot as plt\n",
    "def show_train_history(train_history, train, validation) :\n",
    "    plt.plot(train_history.history[train])\n",
    "    plt.plot(train_history.history[validation])\n",
    "    plt.title('Train History')\n",
    "    plt.ylabel(train)\n",
    "    plt.xlabel('Epoch')\n",
    "    plt.legend(['train', 'validation'], loc = 'upper left')\n",
    "    plt.show()"
   ]
  },
  {
   "cell_type": "code",
   "execution_count": 61,
   "metadata": {},
   "outputs": [
    {
     "data": {
      "image/png": "[encoded data removed]",
      "text/plain": [
       "<Figure size 432x288 with 1 Axes>"
      ]
     },
     "metadata": {
      "needs_background": "light"
     },
     "output_type": "display_data"
    }
   ],
   "source": [
    "show_train_history(train_history, 'accuracy','val_accuracy')"
   ]
  },
  {
   "cell_type": "code",
   "execution_count": 62,
   "metadata": {
    "scrolled": true
   },
   "outputs": [
    {
     "data": {
      "image/png": "[encoded data removed]",
      "text/plain": [
       "<Figure size 432x288 with 1 Axes>"
      ]
     },
     "metadata": {
      "needs_background": "light"
     },
     "output_type": "display_data"
    }
   ],
   "source": [
    "show_train_history(train_history, 'loss', 'val_loss')"
   ]
  },
  {
   "cell_type": "code",
   "execution_count": 63,
   "metadata": {},
   "outputs": [
    {
     "name": "stdout",
     "output_type": "stream",
     "text": [
      "Train on 40000 samples, validate on 10000 samples\n",
      "Epoch 1/10\n",
      "40000/40000 [==============================] - 122s 3ms/step - loss: 0.0217 - accuracy: 0.8503 - val_loss: 0.0395 - val_accuracy: 0.7169\n",
      "Epoch 2/10\n",
      "40000/40000 [==============================] - 131s 3ms/step - loss: 0.0208 - accuracy: 0.8575 - val_loss: 0.0416 - val_accuracy: 0.7068\n",
      "Epoch 3/10\n",
      "40000/40000 [==============================] - 119s 3ms/step - loss: 0.0200 - accuracy: 0.8628 - val_loss: 0.0404 - val_accuracy: 0.7141\n",
      "Epoch 4/10\n",
      "40000/40000 [==============================] - 119s 3ms/step - loss: 0.0199 - accuracy: 0.8652 - val_loss: 0.0399 - val_accuracy: 0.7172\n",
      "Epoch 5/10\n",
      "40000/40000 [==============================] - 119s 3ms/step - loss: 0.0194 - accuracy: 0.8705 - val_loss: 0.0400 - val_accuracy: 0.7233\n",
      "Epoch 6/10\n",
      "40000/40000 [==============================] - 119s 3ms/step - loss: 0.0186 - accuracy: 0.8766 - val_loss: 0.0407 - val_accuracy: 0.7198\n",
      "Epoch 7/10\n",
      "40000/40000 [==============================] - 119s 3ms/step - loss: 0.0190 - accuracy: 0.8758 - val_loss: 0.0419 - val_accuracy: 0.7139\n",
      "Epoch 8/10\n",
      "40000/40000 [==============================] - 119s 3ms/step - loss: 0.0186 - accuracy: 0.8789 - val_loss: 0.0420 - val_accuracy: 0.7141\n",
      "Epoch 9/10\n",
      "40000/40000 [==============================] - 120s 3ms/step - loss: 0.0188 - accuracy: 0.8784 - val_loss: 0.0411 - val_accuracy: 0.7218\n",
      "Epoch 10/10\n",
      "40000/40000 [==============================] - 122s 3ms/step - loss: 0.0175 - accuracy: 0.8871 - val_loss: 0.0426 - val_accuracy: 0.7186\n"
     ]
    }
   ],
   "source": [
    "model.compile(loss='MSE', \n",
    "              optimizer='adam', \n",
    "              metrics=['accuracy'])\n",
    "train_history=model.fit(x_img_train_normalize, y_label_train_OneHot,\n",
    "                        validation_split=0.2,\n",
    "                        epochs=10, batch_size=20, verbose=1) "
   ]
  },
  {
   "cell_type": "code",
   "execution_count": 64,
   "metadata": {},
   "outputs": [
    {
     "data": {
      "image/png": "[encoded data removed]",
      "text/plain": [
       "<Figure size 432x288 with 1 Axes>"
      ]
     },
     "metadata": {
      "needs_background": "light"
     },
     "output_type": "display_data"
    }
   ],
   "source": [
    "show_train_history(train_history, 'accuracy','val_accuracy')"
   ]
  },
  {
   "cell_type": "code",
   "execution_count": 65,
   "metadata": {},
   "outputs": [
    {
     "data": {
      "image/png": "[encoded data removed]",
      "text/plain": [
       "<Figure size 432x288 with 1 Axes>"
      ]
     },
     "metadata": {
      "needs_background": "light"
     },
     "output_type": "display_data"
    }
   ],
   "source": [
    "show_train_history(train_history, 'loss', 'val_loss')"
   ]
  },
  {
   "cell_type": "markdown",
   "metadata": {},
   "source": [
    "## 結論 : 以binary_crossentropy及MSE做為損失函數來比較, 不論optimizer是adam還是sgd, binary_crossentropy都有較高的準確度."
   ]
  },
  {
   "cell_type": "code",
   "execution_count": null,
   "metadata": {},
   "outputs": [],
   "source": []
  }
 ],
 "metadata": {
  "kernelspec": {
   "display_name": "Python 3",
   "language": "python",
   "name": "python3"
  },
  "language_info": {
   "codemirror_mode": {
    "name": "ipython",
    "version": 3
   },
   "file_extension": ".py",
   "mimetype": "text/x-python",
   "name": "python",
   "nbconvert_exporter": "python",
   "pygments_lexer": "ipython3",
   "version": "3.7.1"
  }
 },
 "nbformat": 4,
 "nbformat_minor": 2
}
