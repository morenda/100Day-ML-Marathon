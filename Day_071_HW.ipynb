{
 "cells": [
  {
   "cell_type": "code",
   "execution_count": 1,
   "metadata": {},
   "outputs": [
    {
     "name": "stderr",
     "output_type": "stream",
     "text": [
      "Using TensorFlow backend.\n"
     ]
    }
   ],
   "source": [
    "import keras\n",
    "from keras.datasets import cifar10\n",
    "import numpy as np\n",
    "np.random.seed(10)"
   ]
  },
  {
   "cell_type": "code",
   "execution_count": 2,
   "metadata": {},
   "outputs": [],
   "source": [
    "(x_img_train, y_label_train), (x_img_test, y_label_test) = cifar10.load_data()"
   ]
  },
  {
   "cell_type": "code",
   "execution_count": 5,
   "metadata": {},
   "outputs": [
    {
     "name": "stdout",
     "output_type": "stream",
     "text": [
      "train data : images : (50000, 32, 32, 3) labels : (50000, 1)\n",
      " test data : images : (10000, 32, 32, 3) labels : (10000, 1)\n"
     ]
    }
   ],
   "source": [
    "print(\"train data :\", \"images :\", x_img_train.shape, \"labels :\", y_label_train.shape)\n",
    "print(\" test data :\", \"images :\", x_img_test.shape, \"labels :\", y_label_test.shape)"
   ]
  },
  {
   "cell_type": "code",
   "execution_count": 6,
   "metadata": {},
   "outputs": [],
   "source": [
    "x_img_train_normalize = x_img_train.astype('float32')/255.0\n",
    "x_img_test_normalize = x_img_test.astype('float32')/255.0"
   ]
  },
  {
   "cell_type": "code",
   "execution_count": 9,
   "metadata": {},
   "outputs": [
    {
     "data": {
      "text/plain": [
       "(10000, 10)"
      ]
     },
     "execution_count": 9,
     "metadata": {},
     "output_type": "execute_result"
    }
   ],
   "source": [
    "from keras.utils import np_utils\n",
    "y_label_train_OneHot = np_utils.to_categorical(y_label_train)\n",
    "y_label_test_OneHot = np_utils.to_categorical(y_label_test)\n",
    "y_label_test_OneHot.shape"
   ]
  },
  {
   "cell_type": "code",
   "execution_count": 12,
   "metadata": {},
   "outputs": [],
   "source": [
    "from keras.models import Model, Sequential\n",
    "from keras.layers import Activation, Dense, Dropout, Flatten, Conv2D, MaxPooling2D, ZeroPadding2D"
   ]
  },
  {
   "cell_type": "code",
   "execution_count": 13,
   "metadata": {},
   "outputs": [],
   "source": [
    "model = Sequential()"
   ]
  },
  {
   "cell_type": "code",
   "execution_count": 14,
   "metadata": {},
   "outputs": [],
   "source": [
    "model.add(Conv2D(filters=32,\n",
    "                 kernel_size=(3,3),\n",
    "                 input_shape=(32, 32,3), \n",
    "                 activation='relu', \n",
    "                 padding='same'))\n",
    "model.add(MaxPooling2D(pool_size=(2, 2)))"
   ]
  },
  {
   "cell_type": "code",
   "execution_count": 15,
   "metadata": {},
   "outputs": [],
   "source": [
    "model.add(Conv2D(filters=64, \n",
    "                 kernel_size=(3, 3), \n",
    "                 activation='relu', \n",
    "                 padding='same'))\n",
    "model.add(MaxPooling2D(pool_size=(2, 2)))"
   ]
  },
  {
   "cell_type": "code",
   "execution_count": 16,
   "metadata": {},
   "outputs": [],
   "source": [
    "model.add(Conv2D(filters=128, \n",
    "                 kernel_size=(3, 3), \n",
    "                 activation='relu', \n",
    "                 padding='same'))\n",
    "model.add(MaxPooling2D(pool_size=(2, 2)))"
   ]
  },
  {
   "cell_type": "code",
   "execution_count": 17,
   "metadata": {},
   "outputs": [],
   "source": [
    "model.add(Conv2D(filters=256, \n",
    "                 kernel_size=(3, 3), \n",
    "                 activation='relu', \n",
    "                 padding='same'))\n",
    "model.add(MaxPooling2D(pool_size=(2, 2)))"
   ]
  },
  {
   "cell_type": "code",
   "execution_count": 18,
   "metadata": {},
   "outputs": [],
   "source": [
    "model.add(Flatten())"
   ]
  },
  {
   "cell_type": "code",
   "execution_count": 19,
   "metadata": {},
   "outputs": [],
   "source": [
    "model.add(Dense(512, activation='relu'))\n",
    "model.add(Dense(512, activation='relu'))"
   ]
  },
  {
   "cell_type": "code",
   "execution_count": 20,
   "metadata": {},
   "outputs": [],
   "source": [
    "model.add(Dense(10, activation='softmax'))"
   ]
  },
  {
   "cell_type": "code",
   "execution_count": 21,
   "metadata": {},
   "outputs": [
    {
     "name": "stdout",
     "output_type": "stream",
     "text": [
      "Model: \"sequential_1\"\n",
      "_________________________________________________________________\n",
      "Layer (type)                 Output Shape              Param #   \n",
      "=================================================================\n",
      "conv2d_1 (Conv2D)            (None, 32, 32, 32)        896       \n",
      "_________________________________________________________________\n",
      "max_pooling2d_1 (MaxPooling2 (None, 16, 16, 32)        0         \n",
      "_________________________________________________________________\n",
      "conv2d_2 (Conv2D)            (None, 16, 16, 64)        18496     \n",
      "_________________________________________________________________\n",
      "max_pooling2d_2 (MaxPooling2 (None, 8, 8, 64)          0         \n",
      "_________________________________________________________________\n",
      "conv2d_3 (Conv2D)            (None, 8, 8, 128)         73856     \n",
      "_________________________________________________________________\n",
      "max_pooling2d_3 (MaxPooling2 (None, 4, 4, 128)         0         \n",
      "_________________________________________________________________\n",
      "conv2d_4 (Conv2D)            (None, 4, 4, 256)         295168    \n",
      "_________________________________________________________________\n",
      "max_pooling2d_4 (MaxPooling2 (None, 2, 2, 256)         0         \n",
      "_________________________________________________________________\n",
      "flatten_1 (Flatten)          (None, 1024)              0         \n",
      "_________________________________________________________________\n",
      "dense_1 (Dense)              (None, 512)               524800    \n",
      "_________________________________________________________________\n",
      "dense_2 (Dense)              (None, 512)               262656    \n",
      "_________________________________________________________________\n",
      "dense_3 (Dense)              (None, 10)                5130      \n",
      "=================================================================\n",
      "Total params: 1,181,002\n",
      "Trainable params: 1,181,002\n",
      "Non-trainable params: 0\n",
      "_________________________________________________________________\n",
      "None\n"
     ]
    }
   ],
   "source": [
    "print(model.summary())"
   ]
  },
  {
   "cell_type": "code",
   "execution_count": 22,
   "metadata": {},
   "outputs": [
    {
     "name": "stdout",
     "output_type": "stream",
     "text": [
      "載入模型失敗!開始訓練一個新模型\n"
     ]
    }
   ],
   "source": [
    "try:\n",
    "    model.load_weights(\"SaveModel/cifarCnnModel.h5\")\n",
    "    print(\"載入模型成功!繼續訓練模型\")\n",
    "except :    \n",
    "    print(\"載入模型失敗!開始訓練一個新模型\")"
   ]
  },
  {
   "cell_type": "markdown",
   "metadata": {},
   "source": [
    "# 作業:\n",
    "## 請分別選用 \"MSE\", \"binary _crossentropy\" 查看Train/test accurancy and loss rate"
   ]
  },
  {
   "cell_type": "code",
   "execution_count": 45,
   "metadata": {},
   "outputs": [],
   "source": [
    "model.compile(loss='categorical_crossentropy', \n",
    "              optimizer='sgd', \n",
    "              metrics=['accuracy'])"
   ]
  },
  {
   "cell_type": "code",
   "execution_count": 46,
   "metadata": {},
   "outputs": [
    {
     "name": "stdout",
     "output_type": "stream",
     "text": [
      "Train on 37500 samples, validate on 12500 samples\n",
      "Epoch 1/12\n",
      "37500/37500 [==============================] - 39s 1ms/step - loss: 1.1889 - accuracy: 0.7289 - val_loss: 1.0789 - val_accuracy: 0.6999\n",
      "Epoch 2/12\n",
      "37500/37500 [==============================] - 43s 1ms/step - loss: 0.2465 - accuracy: 0.9146 - val_loss: 1.2011 - val_accuracy: 0.7081\n",
      "Epoch 3/12\n",
      "37500/37500 [==============================] - 47s 1ms/step - loss: 0.1544 - accuracy: 0.9463 - val_loss: 1.2166 - val_accuracy: 0.7127\n",
      "Epoch 4/12\n",
      "37500/37500 [==============================] - 50s 1ms/step - loss: 0.0977 - accuracy: 0.9673 - val_loss: 1.2932 - val_accuracy: 0.7208\n",
      "Epoch 5/12\n",
      "37500/37500 [==============================] - 52s 1ms/step - loss: 0.0697 - accuracy: 0.9774 - val_loss: 1.3976 - val_accuracy: 0.7184\n",
      "Epoch 6/12\n",
      "37500/37500 [==============================] - 54s 1ms/step - loss: 0.0542 - accuracy: 0.9838 - val_loss: 1.4621 - val_accuracy: 0.7258\n",
      "Epoch 7/12\n",
      "37500/37500 [==============================] - 54s 1ms/step - loss: 0.0414 - accuracy: 0.9877 - val_loss: 1.4809 - val_accuracy: 0.7223\n",
      "Epoch 8/12\n",
      "37500/37500 [==============================] - 58s 2ms/step - loss: 0.0309 - accuracy: 0.9922 - val_loss: 1.5133 - val_accuracy: 0.7296\n",
      "Epoch 9/12\n",
      "37500/37500 [==============================] - 56s 2ms/step - loss: 0.0249 - accuracy: 0.9943 - val_loss: 1.5782 - val_accuracy: 0.7274\n",
      "Epoch 10/12\n",
      "37500/37500 [==============================] - 59s 2ms/step - loss: 0.0353 - accuracy: 0.9915 - val_loss: 1.5889 - val_accuracy: 0.7270\n",
      "Epoch 11/12\n",
      "37500/37500 [==============================] - 66s 2ms/step - loss: 0.0203 - accuracy: 0.9959 - val_loss: 1.6253 - val_accuracy: 0.7305\n",
      "Epoch 12/12\n",
      "37500/37500 [==============================] - 62s 2ms/step - loss: 0.0145 - accuracy: 0.9977 - val_loss: 1.6580 - val_accuracy: 0.7323\n"
     ]
    }
   ],
   "source": [
    "train_history=model.fit(x_img_train_normalize, y_label_train_OneHot,\n",
    "                        validation_split=0.25,\n",
    "                        epochs=12, batch_size=128, verbose=1) "
   ]
  },
  {
   "cell_type": "code",
   "execution_count": 47,
   "metadata": {},
   "outputs": [],
   "source": [
    "import matplotlib.pyplot as plt\n",
    "%matplotlib inline\n",
    "\n",
    "#定義一個繪圖函數\n",
    "import matplotlib.pyplot as plt\n",
    "def show_train_history(train_history, train, validation) :\n",
    "    plt.plot(train_history.history[train])\n",
    "    plt.plot(train_history.history[validation])\n",
    "    plt.title('Train History')\n",
    "    plt.ylabel(train)\n",
    "    plt.xlabel('Epoch')\n",
    "    plt.legend(['train', 'validation'], loc = 'upper left')\n",
    "    plt.show()"
   ]
  },
  {
   "cell_type": "code",
   "execution_count": 48,
   "metadata": {},
   "outputs": [
    {
     "data": {
      "image/png": "[encoded data removed]",
      "text/plain": [
       "<Figure size 432x288 with 1 Axes>"
      ]
     },
     "metadata": {
      "needs_background": "light"
     },
     "output_type": "display_data"
    }
   ],
   "source": [
    "show_train_history(train_history, 'accuracy','val_accuracy')"
   ]
  },
  {
   "cell_type": "code",
   "execution_count": 49,
   "metadata": {},
   "outputs": [
    {
     "data": {
      "image/png": "[encoded data removed]",
      "text/plain": [
       "<Figure size 432x288 with 1 Axes>"
      ]
     },
     "metadata": {
      "needs_background": "light"
     },
     "output_type": "display_data"
    }
   ],
   "source": [
    "show_train_history(train_history, 'loss', 'val_loss')"
   ]
  },
  {
   "cell_type": "code",
   "execution_count": 29,
   "metadata": {},
   "outputs": [
    {
     "name": "stdout",
     "output_type": "stream",
     "text": [
      "Train on 37500 samples, validate on 12500 samples\n",
      "Epoch 1/12\n",
      "37500/37500 [==============================] - 44s 1ms/step - loss: 0.0129 - accuracy: 0.9958 - val_loss: 0.1860 - val_accuracy: 0.9493\n",
      "Epoch 2/12\n",
      "37500/37500 [==============================] - 48s 1ms/step - loss: 0.0099 - accuracy: 0.9968 - val_loss: 0.1901 - val_accuracy: 0.9494\n",
      "Epoch 3/12\n",
      "37500/37500 [==============================] - 52s 1ms/step - loss: 0.0084 - accuracy: 0.9976 - val_loss: 0.1932 - val_accuracy: 0.9492\n",
      "Epoch 4/12\n",
      "37500/37500 [==============================] - 54s 1ms/step - loss: 0.0077 - accuracy: 0.9977 - val_loss: 0.1942 - val_accuracy: 0.9495\n",
      "Epoch 5/12\n",
      "37500/37500 [==============================] - 55s 1ms/step - loss: 0.0070 - accuracy: 0.9980 - val_loss: 0.1960 - val_accuracy: 0.9493\n",
      "Epoch 6/12\n",
      "37500/37500 [==============================] - 56s 1ms/step - loss: 0.0064 - accuracy: 0.9982 - val_loss: 0.1987 - val_accuracy: 0.9497\n",
      "Epoch 7/12\n",
      "37500/37500 [==============================] - 56s 1ms/step - loss: 0.0059 - accuracy: 0.9984 - val_loss: 0.2000 - val_accuracy: 0.9498\n",
      "Epoch 8/12\n",
      "37500/37500 [==============================] - 57s 2ms/step - loss: 0.0056 - accuracy: 0.9986 - val_loss: 0.2028 - val_accuracy: 0.9497\n",
      "Epoch 9/12\n",
      "37500/37500 [==============================] - 57s 2ms/step - loss: 0.0052 - accuracy: 0.9988 - val_loss: 0.2054 - val_accuracy: 0.9497\n",
      "Epoch 10/12\n",
      "37500/37500 [==============================] - 57s 2ms/step - loss: 0.0048 - accuracy: 0.9989 - val_loss: 0.2054 - val_accuracy: 0.9497\n",
      "Epoch 11/12\n",
      "37500/37500 [==============================] - 57s 2ms/step - loss: 0.0047 - accuracy: 0.9989 - val_loss: 0.2069 - val_accuracy: 0.9494\n",
      "Epoch 12/12\n",
      "37500/37500 [==============================] - 57s 2ms/step - loss: 0.0044 - accuracy: 0.9990 - val_loss: 0.2086 - val_accuracy: 0.9492\n"
     ]
    }
   ],
   "source": [
    "model.compile(loss='binary_crossentropy', \n",
    "              optimizer='sgd', \n",
    "              metrics=['accuracy'])\n",
    "train_history=model.fit(x_img_train_normalize, y_label_train_OneHot,\n",
    "                        validation_split=0.25,\n",
    "                        epochs=12, batch_size=128, verbose=1) "
   ]
  },
  {
   "cell_type": "code",
   "execution_count": 43,
   "metadata": {},
   "outputs": [
    {
     "data": {
      "image/png": "[encoded data removed]",
      "text/plain": [
       "<Figure size 432x288 with 1 Axes>"
      ]
     },
     "metadata": {
      "needs_background": "light"
     },
     "output_type": "display_data"
    }
   ],
   "source": [
    "show_train_history(train_history, 'accuracy','val_accuracy')"
   ]
  },
  {
   "cell_type": "code",
   "execution_count": 44,
   "metadata": {},
   "outputs": [
    {
     "data": {
      "image/png": "[encoded data removed]",
      "text/plain": [
       "<Figure size 432x288 with 1 Axes>"
      ]
     },
     "metadata": {
      "needs_background": "light"
     },
     "output_type": "display_data"
    }
   ],
   "source": [
    "show_train_history(train_history, 'loss', 'val_loss')"
   ]
  },
  {
   "cell_type": "code",
   "execution_count": 50,
   "metadata": {},
   "outputs": [
    {
     "name": "stdout",
     "output_type": "stream",
     "text": [
      "Train on 37500 samples, validate on 12500 samples\n",
      "Epoch 1/12\n",
      "37500/37500 [==============================] - 42s 1ms/step - loss: 2.9784e-04 - accuracy: 0.9988 - val_loss: 0.0458 - val_accuracy: 0.7315\n",
      "Epoch 2/12\n",
      "37500/37500 [==============================] - 47s 1ms/step - loss: 2.6882e-04 - accuracy: 0.9989 - val_loss: 0.0458 - val_accuracy: 0.7309\n",
      "Epoch 3/12\n",
      "37500/37500 [==============================] - 51s 1ms/step - loss: 2.5827e-04 - accuracy: 0.9991 - val_loss: 0.0457 - val_accuracy: 0.7314\n",
      "Epoch 4/12\n",
      "37500/37500 [==============================] - 52s 1ms/step - loss: 2.5082e-04 - accuracy: 0.9992 - val_loss: 0.0458 - val_accuracy: 0.7310\n",
      "Epoch 5/12\n",
      "37500/37500 [==============================] - 54s 1ms/step - loss: 2.4510e-04 - accuracy: 0.9992 - val_loss: 0.0458 - val_accuracy: 0.7318\n",
      "Epoch 6/12\n",
      "37500/37500 [==============================] - 56s 1ms/step - loss: 2.3889e-04 - accuracy: 0.9992 - val_loss: 0.0458 - val_accuracy: 0.7305\n",
      "Epoch 7/12\n",
      "37500/37500 [==============================] - 56s 1ms/step - loss: 2.3515e-04 - accuracy: 0.9993 - val_loss: 0.0458 - val_accuracy: 0.7310\n",
      "Epoch 8/12\n",
      "37500/37500 [==============================] - 56s 1ms/step - loss: 2.3129e-04 - accuracy: 0.9993 - val_loss: 0.0458 - val_accuracy: 0.7314\n",
      "Epoch 9/12\n",
      "37500/37500 [==============================] - 56s 1ms/step - loss: 2.2735e-04 - accuracy: 0.9993 - val_loss: 0.0458 - val_accuracy: 0.7308\n",
      "Epoch 10/12\n",
      "37500/37500 [==============================] - 57s 2ms/step - loss: 2.2351e-04 - accuracy: 0.9994 - val_loss: 0.0458 - val_accuracy: 0.7314\n",
      "Epoch 11/12\n",
      "37500/37500 [==============================] - 50s 1ms/step - loss: 2.1999e-04 - accuracy: 0.9994 - val_loss: 0.0458 - val_accuracy: 0.7303\n",
      "Epoch 12/12\n",
      "37500/37500 [==============================] - 35s 935us/step - loss: 2.1647e-04 - accuracy: 0.9994 - val_loss: 0.0458 - val_accuracy: 0.7312\n"
     ]
    }
   ],
   "source": [
    "model.compile(loss='MSE', \n",
    "              optimizer='sgd', \n",
    "              metrics=['accuracy'])\n",
    "train_history=model.fit(x_img_train_normalize, y_label_train_OneHot,\n",
    "                        validation_split=0.25,\n",
    "                        epochs=12, batch_size=128, verbose=1) "
   ]
  },
  {
   "cell_type": "code",
   "execution_count": 51,
   "metadata": {},
   "outputs": [
    {
     "data": {
      "image/png": "[encoded data removed]",
      "text/plain": [
       "<Figure size 432x288 with 1 Axes>"
      ]
     },
     "metadata": {
      "needs_background": "light"
     },
     "output_type": "display_data"
    }
   ],
   "source": [
    "show_train_history(train_history, 'accuracy','val_accuracy')"
   ]
  },
  {
   "cell_type": "code",
   "execution_count": 52,
   "metadata": {},
   "outputs": [
    {
     "data": {
      "image/png": "[encoded data removed]",
      "text/plain": [
       "<Figure size 432x288 with 1 Axes>"
      ]
     },
     "metadata": {
      "needs_background": "light"
     },
     "output_type": "display_data"
    }
   ],
   "source": [
    "show_train_history(train_history, 'loss', 'val_loss')"
   ]
  },
  {
   "cell_type": "markdown",
   "metadata": {},
   "source": [
    "## 結論 : 以categorical_crossentropy, binary_crossentropy, 以及MSE為損失函數來比較, 前兩者在驗證後期損失值有增高的情形, MSE則呈現穩定的狀態. 不過整體而言, 模型皆存在overfitting的問題."
   ]
  },
  {
   "cell_type": "code",
   "execution_count": null,
   "metadata": {},
   "outputs": [],
   "source": []
  }
 ],
 "metadata": {
  "kernelspec": {
   "display_name": "Python 3",
   "language": "python",
   "name": "python3"
  },
  "language_info": {
   "codemirror_mode": {
    "name": "ipython",
    "version": 3
   },
   "file_extension": ".py",
   "mimetype": "text/x-python",
   "name": "python",
   "nbconvert_exporter": "python",
   "pygments_lexer": "ipython3",
   "version": "3.7.1"
  }
 },
 "nbformat": 4,
 "nbformat_minor": 2
}
