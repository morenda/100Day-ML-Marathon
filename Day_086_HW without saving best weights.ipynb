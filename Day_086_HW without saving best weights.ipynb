{
 "cells": [
  {
   "cell_type": "markdown",
   "metadata": {},
   "source": [
    "## Work\n",
    "1. 試比較 save_best_only 與否的差異\n",
    "2. 請僅存入將 save_weights_only 設定為 True, 並嘗試 reset ipynb 並將模型與權重重新建回並預測 x_test"
   ]
  },
  {
   "cell_type": "code",
   "execution_count": 1,
   "metadata": {},
   "outputs": [
    {
     "name": "stderr",
     "output_type": "stream",
     "text": [
      "Using TensorFlow backend.\n"
     ]
    }
   ],
   "source": [
    "import os\n",
    "import keras\n",
    "import itertools\n",
    "from keras.models import Sequential\n",
    "from keras.layers import Dense,BatchNormalization\n",
    "\n",
    "# Disable GPU\n",
    "os.environ[\"CUDA_VISIBLE_DEVICES\"] = \"\""
   ]
  },
  {
   "cell_type": "code",
   "execution_count": 2,
   "metadata": {},
   "outputs": [],
   "source": [
    "train, test = keras.datasets.cifar10.load_data()"
   ]
  },
  {
   "cell_type": "code",
   "execution_count": 3,
   "metadata": {},
   "outputs": [],
   "source": [
    "## 資料前處理\n",
    "def preproc_x(x, flatten=True):\n",
    "    x = x / 255.\n",
    "    if flatten:\n",
    "        x = x.reshape((len(x), -1))\n",
    "    return x\n",
    "\n",
    "def preproc_y(y, num_classes=10):\n",
    "    if y.shape[-1] == 1:\n",
    "        y = keras.utils.to_categorical(y, num_classes)\n",
    "    return y    "
   ]
  },
  {
   "cell_type": "code",
   "execution_count": 4,
   "metadata": {},
   "outputs": [],
   "source": [
    "x_train, y_train = train\n",
    "x_test, y_test = test\n",
    "\n",
    "# Preproc the inputs\n",
    "x_train = preproc_x(x_train)\n",
    "x_test = preproc_x(x_test)\n",
    "\n",
    "# Preprc the outputs\n",
    "y_train = preproc_y(y_train)\n",
    "y_test = preproc_y(y_test)"
   ]
  },
  {
   "cell_type": "code",
   "execution_count": 5,
   "metadata": {},
   "outputs": [],
   "source": [
    "\"\"\"Code Here\n",
    "建立你的神經網路\n",
    "\"\"\"\n",
    "def build_mlp(input_shape, output_units=10, num_neurons=[512, 256, 128]):\n",
    "    \n",
    "    model = Sequential()\n",
    "    model.add(Dense(units = input_shape[1] ,input_dim = input_shape[1], kernel_initializer = 'normal', activation = 'relu',name = 'input'))\n",
    "    \n",
    "    for i, n_units in enumerate(num_neurons):\n",
    "        model.add(Dense(units=n_units, kernel_initializer='normal', activation='relu',name=\"hidden_layer\"+str(i+1)))  \n",
    "        model.add(BatchNormalization())         \n",
    "    \n",
    "    model.add(Dense(units=output_units,kernel_initializer='normal', activation='softmax',name='output'))\n",
    "\n",
    "    return model"
   ]
  },
  {
   "cell_type": "code",
   "execution_count": 6,
   "metadata": {},
   "outputs": [],
   "source": [
    "\"\"\"Code Here\n",
    "設定超參數\n",
    "\"\"\"\n",
    "LEARNING_RATE = 1e-3\n",
    "EPOCHS = 50\n",
    "BATCH_SIZE = 1024\n",
    "MOMENTUM = 0.95"
   ]
  },
  {
   "cell_type": "code",
   "execution_count": 7,
   "metadata": {},
   "outputs": [
    {
     "name": "stdout",
     "output_type": "stream",
     "text": [
      "Model: \"sequential_1\"\n",
      "_________________________________________________________________\n",
      "Layer (type)                 Output Shape              Param #   \n",
      "=================================================================\n",
      "input (Dense)                (None, 3072)              9440256   \n",
      "_________________________________________________________________\n",
      "hidden_layer1 (Dense)        (None, 512)               1573376   \n",
      "_________________________________________________________________\n",
      "batch_normalization_1 (Batch (None, 512)               2048      \n",
      "_________________________________________________________________\n",
      "hidden_layer2 (Dense)        (None, 256)               131328    \n",
      "_________________________________________________________________\n",
      "batch_normalization_2 (Batch (None, 256)               1024      \n",
      "_________________________________________________________________\n",
      "hidden_layer3 (Dense)        (None, 128)               32896     \n",
      "_________________________________________________________________\n",
      "batch_normalization_3 (Batch (None, 128)               512       \n",
      "_________________________________________________________________\n",
      "output (Dense)               (None, 10)                1290      \n",
      "=================================================================\n",
      "Total params: 11,182,730\n",
      "Trainable params: 11,180,938\n",
      "Non-trainable params: 1,792\n",
      "_________________________________________________________________\n",
      "Train on 50000 samples, validate on 10000 samples\n",
      "Epoch 1/50\n",
      "50000/50000 [==============================] - 13s 257us/step - loss: 0.3309 - accuracy: 0.8995 - val_loss: 0.3266 - val_accuracy: 0.9000\n",
      "Epoch 2/50\n",
      "50000/50000 [==============================] - 14s 279us/step - loss: 0.3165 - accuracy: 0.8997 - val_loss: 0.3155 - val_accuracy: 0.9000\n",
      "Epoch 3/50\n",
      "50000/50000 [==============================] - 14s 272us/step - loss: 0.3055 - accuracy: 0.9000 - val_loss: 0.3052 - val_accuracy: 0.9004\n",
      "Epoch 4/50\n",
      "50000/50000 [==============================] - 14s 279us/step - loss: 0.2976 - accuracy: 0.9004 - val_loss: 0.2967 - val_accuracy: 0.9008\n",
      "Epoch 5/50\n",
      "50000/50000 [==============================] - 14s 288us/step - loss: 0.2917 - accuracy: 0.9009 - val_loss: 0.2902 - val_accuracy: 0.9010\n",
      "Epoch 6/50\n",
      "50000/50000 [==============================] - 15s 300us/step - loss: 0.2869 - accuracy: 0.9012 - val_loss: 0.2851 - val_accuracy: 0.9016\n",
      "Epoch 7/50\n",
      "50000/50000 [==============================] - 15s 308us/step - loss: 0.2829 - accuracy: 0.9016 - val_loss: 0.2811 - val_accuracy: 0.9019\n",
      "Epoch 8/50\n",
      "50000/50000 [==============================] - 16s 318us/step - loss: 0.2794 - accuracy: 0.9021 - val_loss: 0.2780 - val_accuracy: 0.9024\n",
      "Epoch 9/50\n",
      "50000/50000 [==============================] - 16s 327us/step - loss: 0.2764 - accuracy: 0.9025 - val_loss: 0.2754 - val_accuracy: 0.9028\n",
      "Epoch 10/50\n",
      "50000/50000 [==============================] - 17s 335us/step - loss: 0.2737 - accuracy: 0.9028 - val_loss: 0.2730 - val_accuracy: 0.9032\n",
      "Epoch 11/50\n",
      "50000/50000 [==============================] - 17s 342us/step - loss: 0.2713 - accuracy: 0.9032 - val_loss: 0.2710 - val_accuracy: 0.9037\n",
      "Epoch 12/50\n",
      "50000/50000 [==============================] - 17s 350us/step - loss: 0.2690 - accuracy: 0.9035 - val_loss: 0.2693 - val_accuracy: 0.9040\n",
      "Epoch 13/50\n",
      "50000/50000 [==============================] - 18s 358us/step - loss: 0.2669 - accuracy: 0.9039 - val_loss: 0.2677 - val_accuracy: 0.9044\n",
      "Epoch 14/50\n",
      "50000/50000 [==============================] - 18s 368us/step - loss: 0.2650 - accuracy: 0.9042 - val_loss: 0.2663 - val_accuracy: 0.9047\n",
      "Epoch 15/50\n",
      "50000/50000 [==============================] - 19s 387us/step - loss: 0.2632 - accuracy: 0.9046 - val_loss: 0.2649 - val_accuracy: 0.9048\n",
      "Epoch 16/50\n",
      "50000/50000 [==============================] - 19s 382us/step - loss: 0.2615 - accuracy: 0.9050 - val_loss: 0.2637 - val_accuracy: 0.9052\n",
      "Epoch 17/50\n",
      "50000/50000 [==============================] - 19s 380us/step - loss: 0.2600 - accuracy: 0.9053 - val_loss: 0.2625 - val_accuracy: 0.9054\n",
      "Epoch 18/50\n",
      "50000/50000 [==============================] - 21s 427us/step - loss: 0.2585 - accuracy: 0.9056 - val_loss: 0.2613 - val_accuracy: 0.9054\n",
      "Epoch 19/50\n",
      "50000/50000 [==============================] - 22s 445us/step - loss: 0.2570 - accuracy: 0.9060 - val_loss: 0.2602 - val_accuracy: 0.9057\n",
      "Epoch 20/50\n",
      "50000/50000 [==============================] - 22s 430us/step - loss: 0.2557 - accuracy: 0.9062 - val_loss: 0.2592 - val_accuracy: 0.9060\n",
      "Epoch 21/50\n",
      "50000/50000 [==============================] - 21s 420us/step - loss: 0.2544 - accuracy: 0.9065 - val_loss: 0.2581 - val_accuracy: 0.9062\n",
      "Epoch 22/50\n",
      "50000/50000 [==============================] - 23s 454us/step - loss: 0.2532 - accuracy: 0.9067 - val_loss: 0.2572 - val_accuracy: 0.9063\n",
      "Epoch 23/50\n",
      "50000/50000 [==============================] - 22s 430us/step - loss: 0.2520 - accuracy: 0.9071 - val_loss: 0.2563 - val_accuracy: 0.9066\n",
      "Epoch 24/50\n",
      "50000/50000 [==============================] - 24s 477us/step - loss: 0.2508 - accuracy: 0.9072 - val_loss: 0.2554 - val_accuracy: 0.9069\n",
      "Epoch 25/50\n",
      "50000/50000 [==============================] - 24s 484us/step - loss: 0.2498 - accuracy: 0.9076 - val_loss: 0.2545 - val_accuracy: 0.9070\n",
      "Epoch 26/50\n",
      "50000/50000 [==============================] - 22s 437us/step - loss: 0.2486 - accuracy: 0.9079 - val_loss: 0.2537 - val_accuracy: 0.9072\n",
      "Epoch 27/50\n",
      "50000/50000 [==============================] - 21s 416us/step - loss: 0.2477 - accuracy: 0.9081 - val_loss: 0.2529 - val_accuracy: 0.9072\n",
      "Epoch 28/50\n",
      "50000/50000 [==============================] - 21s 422us/step - loss: 0.2466 - accuracy: 0.9084 - val_loss: 0.2522 - val_accuracy: 0.9073\n",
      "Epoch 29/50\n",
      "50000/50000 [==============================] - 21s 417us/step - loss: 0.2456 - accuracy: 0.9086 - val_loss: 0.2515 - val_accuracy: 0.9075\n",
      "Epoch 30/50\n",
      "50000/50000 [==============================] - 21s 412us/step - loss: 0.2447 - accuracy: 0.9090 - val_loss: 0.2509 - val_accuracy: 0.9076\n",
      "Epoch 31/50\n",
      "50000/50000 [==============================] - 21s 429us/step - loss: 0.2438 - accuracy: 0.9092 - val_loss: 0.2502 - val_accuracy: 0.9079\n",
      "Epoch 32/50\n",
      "50000/50000 [==============================] - 22s 440us/step - loss: 0.2429 - accuracy: 0.9094 - val_loss: 0.2495 - val_accuracy: 0.9080\n",
      "Epoch 33/50\n",
      "50000/50000 [==============================] - 21s 415us/step - loss: 0.2420 - accuracy: 0.9097 - val_loss: 0.2489 - val_accuracy: 0.9083\n",
      "Epoch 34/50\n",
      "50000/50000 [==============================] - 21s 411us/step - loss: 0.2411 - accuracy: 0.9099 - val_loss: 0.2483 - val_accuracy: 0.9085\n",
      "Epoch 35/50\n",
      "50000/50000 [==============================] - 21s 428us/step - loss: 0.2402 - accuracy: 0.9102 - val_loss: 0.2477 - val_accuracy: 0.9087\n",
      "Epoch 36/50\n",
      "50000/50000 [==============================] - 22s 432us/step - loss: 0.2394 - accuracy: 0.9103 - val_loss: 0.2471 - val_accuracy: 0.9088\n",
      "Epoch 37/50\n",
      "50000/50000 [==============================] - 21s 426us/step - loss: 0.2386 - accuracy: 0.9107 - val_loss: 0.2465 - val_accuracy: 0.9090\n",
      "Epoch 38/50\n",
      "50000/50000 [==============================] - 21s 429us/step - loss: 0.2377 - accuracy: 0.9109 - val_loss: 0.2460 - val_accuracy: 0.9091\n",
      "Epoch 39/50\n",
      "50000/50000 [==============================] - 21s 423us/step - loss: 0.2370 - accuracy: 0.9112 - val_loss: 0.2455 - val_accuracy: 0.9093\n",
      "Epoch 40/50\n",
      "50000/50000 [==============================] - 22s 447us/step - loss: 0.2363 - accuracy: 0.9114 - val_loss: 0.2450 - val_accuracy: 0.9094\n",
      "Epoch 41/50\n",
      "50000/50000 [==============================] - 22s 432us/step - loss: 0.2356 - accuracy: 0.9115 - val_loss: 0.2445 - val_accuracy: 0.9097\n",
      "Epoch 42/50\n",
      "50000/50000 [==============================] - 22s 447us/step - loss: 0.2348 - accuracy: 0.9119 - val_loss: 0.2440 - val_accuracy: 0.9097\n",
      "Epoch 43/50\n",
      "50000/50000 [==============================] - 22s 432us/step - loss: 0.2340 - accuracy: 0.9121 - val_loss: 0.2436 - val_accuracy: 0.9097\n",
      "Epoch 44/50\n",
      "50000/50000 [==============================] - 22s 433us/step - loss: 0.2333 - accuracy: 0.9123 - val_loss: 0.2432 - val_accuracy: 0.9098\n",
      "Epoch 45/50\n",
      "50000/50000 [==============================] - 21s 417us/step - loss: 0.2326 - accuracy: 0.9126 - val_loss: 0.2427 - val_accuracy: 0.9098\n"
     ]
    },
    {
     "name": "stdout",
     "output_type": "stream",
     "text": [
      "Epoch 46/50\n",
      "50000/50000 [==============================] - 22s 433us/step - loss: 0.2320 - accuracy: 0.9128 - val_loss: 0.2423 - val_accuracy: 0.9099\n",
      "Epoch 47/50\n",
      "50000/50000 [==============================] - 22s 432us/step - loss: 0.2312 - accuracy: 0.9130 - val_loss: 0.2418 - val_accuracy: 0.9100\n",
      "Epoch 48/50\n",
      "50000/50000 [==============================] - 22s 441us/step - loss: 0.2306 - accuracy: 0.9131 - val_loss: 0.2414 - val_accuracy: 0.9101\n",
      "Epoch 49/50\n",
      "50000/50000 [==============================] - 23s 456us/step - loss: 0.2299 - accuracy: 0.9134 - val_loss: 0.2411 - val_accuracy: 0.9101\n",
      "Epoch 50/50\n",
      "50000/50000 [==============================] - 21s 426us/step - loss: 0.2293 - accuracy: 0.9136 - val_loss: 0.2408 - val_accuracy: 0.9101\n",
      "10000/10000 [==============================] - 3s 268us/step\n"
     ]
    }
   ],
   "source": [
    "# 載入 Callbacks\n",
    "\"\"\"Code Here\n",
    "設定 callbacks: model checkpoint\n",
    "\"\"\"\n",
    "from keras.callbacks import ModelCheckpoint\n",
    "\n",
    "model_ckpt = ModelCheckpoint(filepath=\"./tmp.h5\", \n",
    "                             monitor=\"val_loss\", \n",
    "                             save_best_only=False)\n",
    "#results = {}\n",
    "\n",
    "\"\"\"Code Here\n",
    "撰寫你的訓練流程並將結果用 dictionary 紀錄\n",
    "\"\"\"\n",
    "model = build_mlp(input_shape=x_train.shape)\n",
    "model.summary()\n",
    "optimizer = keras.optimizers.SGD(lr=LEARNING_RATE, nesterov=True, momentum=MOMENTUM)\n",
    "model.compile(loss=\"binary_crossentropy\", metrics=[\"accuracy\"], optimizer=optimizer)\n",
    "\n",
    "model.fit(x_train, y_train, \n",
    "          epochs=EPOCHS, \n",
    "          batch_size=BATCH_SIZE, \n",
    "          validation_data=(x_test, y_test), \n",
    "          shuffle=True,\n",
    "          callbacks=[model_ckpt]\n",
    "         )\n",
    "model.save(\"final_model.h5\")\n",
    "model.save_weights(\"model_weights.h5\")\n",
    "\n",
    "# Collect results\n",
    "train_loss = model.history.history[\"loss\"]\n",
    "valid_loss = model.history.history[\"val_loss\"]\n",
    "train_acc = model.history.history[\"accuracy\"]\n",
    "valid_acc = model.history.history[\"val_accuracy\"]\n",
    "pred_final = model.predict(x_test)\n",
    "\n",
    "# Load back\n",
    "model = keras.models.load_model(\"./tmp.h5\")\n",
    "loss_loadback, acc_loadback = model.evaluate(x_test, y_test)\n",
    "pred_loadback = model.predict(x_test)"
   ]
  },
  {
   "cell_type": "code",
   "execution_count": 8,
   "metadata": {},
   "outputs": [
    {
     "data": {
      "image/png": "[encoded data removed]",
      "text/plain": [
       "<Figure size 432x288 with 1 Axes>"
      ]
     },
     "metadata": {
      "needs_background": "light"
     },
     "output_type": "display_data"
    },
    {
     "data": {
      "image/png": "[encoded data removed]",
      "text/plain": [
       "<Figure size 432x288 with 1 Axes>"
      ]
     },
     "metadata": {
      "needs_background": "light"
     },
     "output_type": "display_data"
    }
   ],
   "source": [
    "import matplotlib.pyplot as plt\n",
    "%matplotlib inline\n",
    "\n",
    "plt.plot(range(len(train_loss)), train_loss, label=\"train loss\")\n",
    "plt.plot(range(len(valid_loss)), valid_loss, label=\"valid loss\")\n",
    "plt.hlines(y=loss_loadback, xmin=0, xmax=len(train_loss), colors='green', linestyles='--')\n",
    "plt.legend()\n",
    "plt.title(\"Loss\")\n",
    "plt.show()\n",
    "\n",
    "plt.plot(range(len(train_acc)), train_acc, label=\"train accuracy\")\n",
    "plt.plot(range(len(valid_acc)), valid_acc, label=\"valid accuracy\")\n",
    "plt.hlines(y=acc_loadback, xmin=0, xmax=len(train_loss), colors='green', linestyles='--')\n",
    "plt.legend()\n",
    "plt.title(\"Accuracy\")\n",
    "plt.show()"
   ]
  },
  {
   "cell_type": "code",
   "execution_count": 9,
   "metadata": {
    "scrolled": true
   },
   "outputs": [
    {
     "name": "stdout",
     "output_type": "stream",
     "text": [
      "Accuracy of final weights: 0.441\n",
      "Accuracy of best weights: 0.441\n"
     ]
    }
   ],
   "source": [
    "from sklearn.metrics import accuracy_score\n",
    "\n",
    "final_model_acc = accuracy_score(y_true=y_test.argmax(axis=-1), y_pred=pred_final.argmax(axis=-1))\n",
    "loadback_acc = accuracy_score(y_true=y_test.argmax(axis=-1), y_pred=pred_loadback.argmax(axis=-1))\n",
    "\n",
    "print(\"Accuracy of final weights: %.3f\" % final_model_acc)\n",
    "print(\"Accuracy of best weights: %.3f\" % loadback_acc)"
   ]
  },
  {
   "cell_type": "code",
   "execution_count": 10,
   "metadata": {},
   "outputs": [
    {
     "name": "stdout",
     "output_type": "stream",
     "text": [
      "Accuracy of best weights: 0.111\n",
      "Accuracy of loadback best weights: 0.441\n"
     ]
    }
   ],
   "source": [
    "new_model = build_mlp(input_shape=x_train.shape)\n",
    "new_model_pred = new_model.predict(x_test)\n",
    "new_model_acc = accuracy_score(y_true=y_test.argmax(axis=-1), y_pred=new_model_pred.argmax(axis=-1))\n",
    "print(\"Accuracy of best weights: %.3f\" % new_model_acc)\n",
    "\n",
    "new_model.load_weights(\"./model_weights.h5\")\n",
    "new_model_pred = new_model.predict(x_test)\n",
    "new_model_loadback_acc = accuracy_score(y_true=y_test.argmax(axis=-1), y_pred=new_model_pred.argmax(axis=-1))\n",
    "print(\"Accuracy of loadback best weights: %.3f\" % new_model_loadback_acc)"
   ]
  },
  {
   "cell_type": "markdown",
   "metadata": {},
   "source": [
    "## 結論 : save_best_only 與否的差異並不大"
   ]
  },
  {
   "cell_type": "code",
   "execution_count": null,
   "metadata": {},
   "outputs": [],
   "source": []
  }
 ],
 "metadata": {
  "kernelspec": {
   "display_name": "Python 3",
   "language": "python",
   "name": "python3"
  },
  "language_info": {
   "codemirror_mode": {
    "name": "ipython",
    "version": 3
   },
   "file_extension": ".py",
   "mimetype": "text/x-python",
   "name": "python",
   "nbconvert_exporter": "python",
   "pygments_lexer": "ipython3",
   "version": "3.7.1"
  }
 },
 "nbformat": 4,
 "nbformat_minor": 2
}
