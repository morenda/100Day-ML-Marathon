{
 "cells": [
  {
   "cell_type": "code",
   "execution_count": 16,
   "metadata": {},
   "outputs": [],
   "source": [
    "import os\n",
    "import glob\n",
    "import shutil\n",
    "import matplotlib.pyplot as plt\n",
    "import tensorflow as tf\n",
    "from keras import Model\n",
    "from tensorflow.keras.models import Sequential\n",
    "from tensorflow.keras.layers import Dense, Conv2D, Flatten, Dropout, MaxPooling2D\n",
    "from tensorflow.keras.preprocessing.image import ImageDataGenerator"
   ]
  },
  {
   "cell_type": "code",
   "execution_count": 2,
   "metadata": {},
   "outputs": [
    {
     "name": "stdout",
     "output_type": "stream",
     "text": [
      "Downloading data from https://storage.googleapis.com/download.tensorflow.org/example_images/flower_photos.tgz\n",
      "228818944/228813984 [==============================] - 32s 0us/step\n"
     ]
    }
   ],
   "source": [
    "# 花朵圖片下載網址\n",
    "_URL = \"https://storage.googleapis.com/download.tensorflow.org/example_images/flower_photos.tgz\"\n",
    "\n",
    "# 用 keras API 下載花朵圖片\n",
    "zip_file = tf.keras.utils.get_file(origin=_URL,                 # 指定下載網址\n",
    "                                   fname=\"flower_photos.tgz\",   # 命名檔案\n",
    "                                   extract=True)                # 是否解壓縮\n",
    "\n",
    "# 取得圖片資料夾路徑\n",
    "base_dir = os.path.join(os.path.dirname(zip_file), 'flower_photos')\n",
    "\n",
    "# 該資料共有 5 個類別\n",
    "classes = ['roses', 'daisy', 'dandelion', 'sunflowers', 'tulips']"
   ]
  },
  {
   "cell_type": "code",
   "execution_count": 4,
   "metadata": {},
   "outputs": [
    {
     "name": "stdout",
     "output_type": "stream",
     "text": [
      "roses: 641 Images\n",
      "daisy: 633 Images\n",
      "dandelion: 898 Images\n",
      "sunflowers: 699 Images\n",
      "tulips: 799 Images\n"
     ]
    }
   ],
   "source": [
    "for cl in classes:\n",
    "  img_path = os.path.join(base_dir, cl)                          # 取得單一類別資料夾路徑\n",
    "  images = glob.glob(img_path + '/*.jpg')                        # 載入所有 jpg 檔成為一個 list\n",
    "  print(\"{}: {} Images\".format(cl, len(images)))                 # 印出單一類別有幾張圖片\n",
    "  num_train = int(round(len(images)*0.8))                        # 切割 80% 資料作為訓練集\n",
    "  train, val = images[:num_train], images[num_train:]            # 訓練 > 0~80%，驗證 > 80%~100%\n",
    "\n",
    "  for t in train:\n",
    "    if not os.path.exists(os.path.join(base_dir, 'train', cl)):  # 如果資料夾不存在\n",
    "      os.makedirs(os.path.join(base_dir, 'train', cl))           # 建立新資料夾\n",
    "    shutil.move(t, os.path.join(base_dir, 'train', cl))          # 搬運圖片資料到新的資料夾\n",
    "\n",
    "  for v in val:\n",
    "    if not os.path.exists(os.path.join(base_dir, 'val', cl)):    # 如果資料夾不存在\n",
    "      os.makedirs(os.path.join(base_dir, 'val', cl))             # 建立新資料夾\n",
    "    shutil.move(v, os.path.join(base_dir, 'val', cl))            # 搬運圖片資料到新的資料夾"
   ]
  },
  {
   "cell_type": "code",
   "execution_count": 5,
   "metadata": {},
   "outputs": [],
   "source": [
    "train_dir = os.path.join(base_dir, 'train')\n",
    "val_dir = os.path.join(base_dir, 'val')"
   ]
  },
  {
   "cell_type": "code",
   "execution_count": 6,
   "metadata": {},
   "outputs": [],
   "source": [
    "batch_size = 100\n",
    "IMG_SHAPE = 150 "
   ]
  },
  {
   "cell_type": "code",
   "execution_count": 10,
   "metadata": {},
   "outputs": [
    {
     "name": "stdout",
     "output_type": "stream",
     "text": [
      "Found 2935 images belonging to 5 classes.\n"
     ]
    }
   ],
   "source": [
    "image_gen_train = ImageDataGenerator(\n",
    "    rescale=1./255,               # 從0~255整數，壓縮為0~1浮點數\n",
    "    rotation_range=45,            # 隨機旋轉 ±45°\n",
    "    width_shift_range=.15,        # 隨機水平移動 ±15%\n",
    "    height_shift_range=.15,       # 隨機垂直移動 ±15%\n",
    "    horizontal_flip=True,         # 隨機水平翻轉\n",
    "    zoom_range=0.5                # 隨機縮放 50%\n",
    ")\n",
    "\n",
    "\n",
    "train_data_gen = image_gen_train.flow_from_directory(\n",
    "    batch_size=batch_size,             # batch_size=100\n",
    "    directory=train_dir,               # 指定訓練集的資料夾路徑\n",
    "    shuffle=True,                      # 洗牌，打亂圖片排序\n",
    "    target_size=(IMG_SHAPE,IMG_SHAPE),  # 圖片大小統一為 150 * 150 pixel\n",
    "    class_mode='sparse'           # 分類標籤定義為 0, 1, 2, 3, 4\n",
    ")"
   ]
  },
  {
   "cell_type": "code",
   "execution_count": 11,
   "metadata": {},
   "outputs": [
    {
     "name": "stdout",
     "output_type": "stream",
     "text": [
      "Found 735 images belonging to 5 classes.\n"
     ]
    }
   ],
   "source": [
    "image_gen_val = ImageDataGenerator(rescale=1./255)\n",
    "\n",
    "val_data_gen = image_gen_val.flow_from_directory(\n",
    "    batch_size=batch_size,\n",
    "    directory=val_dir,\n",
    "    target_size=(IMG_SHAPE, IMG_SHAPE),\n",
    "    class_mode='sparse'\n",
    ")"
   ]
  },
  {
   "cell_type": "code",
   "execution_count": 19,
   "metadata": {},
   "outputs": [],
   "source": [
    "model = Sequential()\n",
    "\n",
    "model.add(Conv2D(16, 3, padding='same', activation='relu', input_shape=(IMG_SHAPE,IMG_SHAPE, 3)))\n",
    "model.add(MaxPooling2D(pool_size=(2, 2)))\n",
    "\n",
    "model.add(Conv2D(32, 3, padding='same', activation='relu'))\n",
    "model.add(MaxPooling2D(pool_size=(2, 2)))\n",
    "\n",
    "model.add(Conv2D(64, 3, padding='same', activation='relu'))\n",
    "model.add(MaxPooling2D(pool_size=(2, 2)))\n",
    "\n",
    "model.add(Flatten())\n",
    "model.add(Dropout(0.2))\n",
    "model.add(Dense(512, activation='relu'))\n",
    "\n",
    "model.add(Dropout(0.2))\n",
    "model.add(Dense(5, activation='softmax'))\n",
    "\n",
    "model.compile(optimizer='adam',\n",
    "              loss='sparse_categorical_crossentropy',\n",
    "              metrics=['acc'])"
   ]
  },
  {
   "cell_type": "code",
   "execution_count": 21,
   "metadata": {},
   "outputs": [
    {
     "name": "stdout",
     "output_type": "stream",
     "text": [
      "Epoch 1/50\n",
      "30/30 [==============================] - 18s 607ms/step - loss: 0.9418 - acc: 0.6320 - val_loss: 0.8523 - val_acc: 0.6939\n",
      "Epoch 2/50\n",
      "30/30 [==============================] - 16s 541ms/step - loss: 0.9166 - acc: 0.6416 - val_loss: 0.8327 - val_acc: 0.6857\n",
      "Epoch 3/50\n",
      "30/30 [==============================] - 16s 542ms/step - loss: 0.8834 - acc: 0.6480 - val_loss: 0.7908 - val_acc: 0.7102\n",
      "Epoch 4/50\n",
      "30/30 [==============================] - 18s 587ms/step - loss: 0.8776 - acc: 0.6675 - val_loss: 0.8192 - val_acc: 0.6694\n",
      "Epoch 5/50\n",
      "30/30 [==============================] - 17s 564ms/step - loss: 0.8413 - acc: 0.6716 - val_loss: 0.7317 - val_acc: 0.7265\n",
      "Epoch 6/50\n",
      "30/30 [==============================] - 18s 590ms/step - loss: 0.8035 - acc: 0.6927 - val_loss: 0.7370 - val_acc: 0.7224\n",
      "Epoch 7/50\n",
      "30/30 [==============================] - 18s 615ms/step - loss: 0.7865 - acc: 0.6903 - val_loss: 0.7374 - val_acc: 0.7197\n",
      "Epoch 8/50\n",
      "30/30 [==============================] - 20s 652ms/step - loss: 0.7972 - acc: 0.6859 - val_loss: 0.6803 - val_acc: 0.7469\n",
      "Epoch 9/50\n",
      "30/30 [==============================] - 19s 649ms/step - loss: 0.7677 - acc: 0.7029 - val_loss: 0.7275 - val_acc: 0.7293\n",
      "Epoch 10/50\n",
      "30/30 [==============================] - 19s 650ms/step - loss: 0.7522 - acc: 0.7094 - val_loss: 0.7037 - val_acc: 0.7224\n",
      "Epoch 11/50\n",
      "30/30 [==============================] - 20s 660ms/step - loss: 0.7662 - acc: 0.7029 - val_loss: 0.7175 - val_acc: 0.7320\n",
      "Epoch 12/50\n",
      "30/30 [==============================] - 20s 672ms/step - loss: 0.7516 - acc: 0.7111 - val_loss: 0.7096 - val_acc: 0.7238\n",
      "Epoch 13/50\n",
      "30/30 [==============================] - 21s 701ms/step - loss: 0.7103 - acc: 0.7220 - val_loss: 0.6758 - val_acc: 0.7565\n",
      "Epoch 14/50\n",
      "30/30 [==============================] - 21s 705ms/step - loss: 0.6809 - acc: 0.7397 - val_loss: 0.6562 - val_acc: 0.7592\n",
      "Epoch 15/50\n",
      "30/30 [==============================] - 20s 653ms/step - loss: 0.7093 - acc: 0.7233 - val_loss: 0.6628 - val_acc: 0.7429\n",
      "Epoch 16/50\n",
      "30/30 [==============================] - 20s 674ms/step - loss: 0.6936 - acc: 0.7267 - val_loss: 0.6857 - val_acc: 0.7429\n",
      "Epoch 17/50\n",
      "30/30 [==============================] - 20s 678ms/step - loss: 0.6586 - acc: 0.7434 - val_loss: 0.6608 - val_acc: 0.7687\n",
      "Epoch 18/50\n",
      "30/30 [==============================] - 21s 699ms/step - loss: 0.6829 - acc: 0.7373 - val_loss: 0.6468 - val_acc: 0.7701\n",
      "Epoch 19/50\n",
      "30/30 [==============================] - 20s 682ms/step - loss: 0.6665 - acc: 0.7424 - val_loss: 0.6793 - val_acc: 0.7524\n",
      "Epoch 20/50\n",
      "30/30 [==============================] - 20s 671ms/step - loss: 0.6450 - acc: 0.7465 - val_loss: 0.6714 - val_acc: 0.7592\n",
      "Epoch 21/50\n",
      "30/30 [==============================] - 20s 668ms/step - loss: 0.6403 - acc: 0.7523 - val_loss: 0.6346 - val_acc: 0.7619\n",
      "Epoch 22/50\n",
      "30/30 [==============================] - 20s 673ms/step - loss: 0.6335 - acc: 0.7506 - val_loss: 0.6448 - val_acc: 0.7646\n",
      "Epoch 23/50\n",
      "30/30 [==============================] - 20s 663ms/step - loss: 0.6448 - acc: 0.7547 - val_loss: 0.6632 - val_acc: 0.7592\n",
      "Epoch 24/50\n",
      "30/30 [==============================] - 21s 702ms/step - loss: 0.6121 - acc: 0.7646 - val_loss: 0.6662 - val_acc: 0.7578\n",
      "Epoch 25/50\n",
      "30/30 [==============================] - 21s 709ms/step - loss: 0.5915 - acc: 0.7693 - val_loss: 0.6689 - val_acc: 0.7605\n",
      "Epoch 26/50\n",
      "30/30 [==============================] - 20s 674ms/step - loss: 0.5938 - acc: 0.7796 - val_loss: 0.6426 - val_acc: 0.7592\n",
      "Epoch 27/50\n",
      "30/30 [==============================] - 21s 689ms/step - loss: 0.5829 - acc: 0.7819 - val_loss: 0.6932 - val_acc: 0.7510\n",
      "Epoch 28/50\n",
      "30/30 [==============================] - 21s 709ms/step - loss: 0.5944 - acc: 0.7721 - val_loss: 0.6510 - val_acc: 0.7565\n",
      "Epoch 29/50\n",
      "30/30 [==============================] - 21s 692ms/step - loss: 0.5689 - acc: 0.7809 - val_loss: 0.6528 - val_acc: 0.7660\n",
      "Epoch 30/50\n",
      "30/30 [==============================] - 23s 756ms/step - loss: 0.5780 - acc: 0.7826 - val_loss: 0.6903 - val_acc: 0.7660\n",
      "Epoch 31/50\n",
      "30/30 [==============================] - 22s 719ms/step - loss: 0.5723 - acc: 0.7809 - val_loss: 0.6447 - val_acc: 0.7633\n",
      "Epoch 32/50\n",
      "30/30 [==============================] - 23s 752ms/step - loss: 0.5350 - acc: 0.8055 - val_loss: 0.6415 - val_acc: 0.7728\n",
      "Epoch 33/50\n",
      "30/30 [==============================] - 21s 712ms/step - loss: 0.5616 - acc: 0.7819 - val_loss: 0.6432 - val_acc: 0.7660\n",
      "Epoch 34/50\n",
      "30/30 [==============================] - 21s 705ms/step - loss: 0.5572 - acc: 0.7847 - val_loss: 0.7291 - val_acc: 0.7388\n",
      "Epoch 35/50\n",
      "30/30 [==============================] - 21s 711ms/step - loss: 0.5489 - acc: 0.7802 - val_loss: 0.6466 - val_acc: 0.7592\n",
      "Epoch 36/50\n",
      "30/30 [==============================] - 21s 714ms/step - loss: 0.5321 - acc: 0.7983 - val_loss: 0.7556 - val_acc: 0.7456\n",
      "Epoch 37/50\n",
      "30/30 [==============================] - 22s 739ms/step - loss: 0.5360 - acc: 0.7915 - val_loss: 0.6899 - val_acc: 0.7442\n",
      "Epoch 38/50\n",
      "30/30 [==============================] - 21s 711ms/step - loss: 0.5283 - acc: 0.7939 - val_loss: 0.7242 - val_acc: 0.7483\n",
      "Epoch 39/50\n",
      "30/30 [==============================] - 22s 723ms/step - loss: 0.5191 - acc: 0.7990 - val_loss: 0.6845 - val_acc: 0.7646\n",
      "Epoch 40/50\n",
      "30/30 [==============================] - 21s 701ms/step - loss: 0.5341 - acc: 0.7963 - val_loss: 0.6728 - val_acc: 0.7551\n",
      "Epoch 41/50\n",
      "30/30 [==============================] - 21s 697ms/step - loss: 0.5061 - acc: 0.8044 - val_loss: 0.6782 - val_acc: 0.7646\n",
      "Epoch 42/50\n",
      "30/30 [==============================] - 21s 695ms/step - loss: 0.4940 - acc: 0.8078 - val_loss: 0.6569 - val_acc: 0.7646\n",
      "Epoch 43/50\n",
      "30/30 [==============================] - 21s 709ms/step - loss: 0.5132 - acc: 0.8024 - val_loss: 0.6770 - val_acc: 0.7660\n",
      "Epoch 44/50\n",
      "30/30 [==============================] - 21s 715ms/step - loss: 0.5224 - acc: 0.7993 - val_loss: 0.6841 - val_acc: 0.7755\n",
      "Epoch 45/50\n",
      "30/30 [==============================] - 21s 702ms/step - loss: 0.4916 - acc: 0.8123 - val_loss: 0.6370 - val_acc: 0.7551\n",
      "Epoch 46/50\n",
      "30/30 [==============================] - 21s 698ms/step - loss: 0.4767 - acc: 0.8164 - val_loss: 0.6637 - val_acc: 0.7714\n",
      "Epoch 47/50\n",
      "30/30 [==============================] - 21s 696ms/step - loss: 0.4727 - acc: 0.8259 - val_loss: 0.6439 - val_acc: 0.7701\n",
      "Epoch 48/50\n",
      "30/30 [==============================] - 22s 733ms/step - loss: 0.4627 - acc: 0.8204 - val_loss: 0.6725 - val_acc: 0.7823\n",
      "Epoch 49/50\n",
      "30/30 [==============================] - 22s 725ms/step - loss: 0.5058 - acc: 0.8140 - val_loss: 0.6121 - val_acc: 0.7864\n",
      "Epoch 50/50\n",
      "30/30 [==============================] - 21s 709ms/step - loss: 0.4820 - acc: 0.8085 - val_loss: 0.6622 - val_acc: 0.7646\n"
     ]
    }
   ],
   "source": [
    "epochs = 50\n",
    "\n",
    "history = model.fit(\n",
    "    train_data_gen,               # 帶入訓練資料產生器\n",
    "    epochs=epochs,                # 將所有資料看過 50 次\n",
    "    validation_data=val_data_gen  # 帶入驗證資料產生器\n",
    ")"
   ]
  },
  {
   "cell_type": "code",
   "execution_count": null,
   "metadata": {},
   "outputs": [],
   "source": []
  }
 ],
 "metadata": {
  "kernelspec": {
   "display_name": "Python 3",
   "language": "python",
   "name": "python3"
  },
  "language_info": {
   "codemirror_mode": {
    "name": "ipython",
    "version": 3
   },
   "file_extension": ".py",
   "mimetype": "text/x-python",
   "name": "python",
   "nbconvert_exporter": "python",
   "pygments_lexer": "ipython3",
   "version": "3.7.1"
  }
 },
 "nbformat": 4,
 "nbformat_minor": 2
}
