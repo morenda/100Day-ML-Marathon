{
 "cells": [
  {
   "cell_type": "markdown",
   "metadata": {},
   "source": [
    "# 作業\n",
    "* 試著想想看, 非監督學習是否有可能使用評價函數 (Metric) 來鑑別好壞呢?  \n",
    "(Hint : 可以分為 \"有目標值\" 與 \"無目標值\" 兩個方向思考)"
   ]
  },
  {
   "cell_type": "markdown",
   "metadata": {
    "collapsed": true
   },
   "source": [
    "是否有監督（supervised），就看輸入數據是否有標籤（label），而樣本的分類標籤，是不能重合的。輸入數據有標籤，則為有監督學習，沒標籤則為非監督學習。\n",
    "\n",
    "非監督學習擷取出有用特徵並分析其結構，以求自動找出資料結構。一般有兩種思路。第一種思路是在指導Agent時不為其指定明確的分類，而是在成功時用某種激勵制度。這類訓練通常會用於決策問題，目標不是產生一個分類系統，而是做出最大回報的決定。另外一種思路的目標不是讓效用函數最大化，而是找到訓練數據中的近似點。實務工作例如分群，關聯，異常檢測，以及自動編碼器等。\n",
    "\n",
    "此類模型的評價，有無目標值都有各自的模型可參考:\n",
    "1. 有目標值: 用分類模型的評估指標來判別分類的好壞。將預測的分群結果與已知的目標值做比對，可用準確率、F1 的指標來評價。\n",
    "2. 無目標值: 比較接近非監督的性質。因分群數量需要預先指定，故無法用評價函數 (Metric) 來鑑別好壞，通常會將分群結果轉換成視覺化圖表，觀察資料越靠近者為同群的機率較高，不同群的資料距離會較遠，來判斷模型的好壞。"
   ]
  }
 ],
 "metadata": {
  "kernelspec": {
   "display_name": "Python 3",
   "language": "python",
   "name": "python3"
  },
  "language_info": {
   "codemirror_mode": {
    "name": "ipython",
    "version": 3
   },
   "file_extension": ".py",
   "mimetype": "text/x-python",
   "name": "python",
   "nbconvert_exporter": "python",
   "pygments_lexer": "ipython3",
   "version": "3.7.1"
  }
 },
 "nbformat": 4,
 "nbformat_minor": 1
}
