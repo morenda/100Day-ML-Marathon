{
 "cells": [
  {
   "cell_type": "markdown",
   "metadata": {},
   "source": [
    "## [作業重點]\n",
    "確保你了解隨機森林模型中每個超參數的意義，並觀察調整超參數對結果的影響"
   ]
  },
  {
   "cell_type": "markdown",
   "metadata": {},
   "source": [
    "## 作業\n",
    "\n",
    "1. 試著調整 RandomForestClassifier(...) 中的參數，並觀察是否會改變結果？\n",
    "2. 改用其他資料集 (boston, wine)，並與回歸模型與決策樹的結果進行比較"
   ]
  },
  {
   "cell_type": "code",
   "execution_count": 20,
   "metadata": {},
   "outputs": [],
   "source": [
    "from sklearn import datasets, metrics\n",
    "from sklearn.ensemble import RandomForestClassifier\n",
    "from sklearn.model_selection import train_test_split"
   ]
  },
  {
   "cell_type": "code",
   "execution_count": 8,
   "metadata": {},
   "outputs": [
    {
     "name": "stdout",
     "output_type": "stream",
     "text": [
      "20 Accuracy:  0.9736842105263158\n",
      "Feature importance:  [0.10105835 0.02796293 0.52640482 0.3445739 ]\n"
     ]
    }
   ],
   "source": [
    "# 原參數: 20棵樹\n",
    "iris = datasets.load_iris()\n",
    "x_train, x_test, y_train, y_test = train_test_split(iris.data, iris.target, test_size=0.25, random_state=4)\n",
    "clf20 = RandomForestClassifier(n_estimators=20, max_depth=4)\n",
    "clf20.fit(x_train, y_train)\n",
    "y_pred = clf20.predict(x_test)\n",
    "acc20 = metrics.accuracy_score(y_test, y_pred)\n",
    "print(\"20 Accuracy: \", acc20)\n",
    "#print(iris.feature_names)\n",
    "print(\"Feature importance: \", clf20.feature_importances_)"
   ]
  },
  {
   "cell_type": "code",
   "execution_count": 9,
   "metadata": {},
   "outputs": [
    {
     "name": "stdout",
     "output_type": "stream",
     "text": [
      " 1 Accuracy:  0.868421052631579\n",
      "Feature importance:  [0.20656424 0.         0.79343576 0.        ]\n"
     ]
    }
   ],
   "source": [
    "# 新參數: 1棵樹\n",
    "clf1 = RandomForestClassifier(n_estimators=1, max_depth=4)\n",
    "clf1.fit(x_train, y_train)\n",
    "y_pred = clf1.predict(x_test)\n",
    "acc1 = accuracy_score(y_test, y_pred)\n",
    "print(\" 1 Accuracy: \", acc1)\n",
    "#print(iris.feature_names)\n",
    "print(\"Feature importance: \", clf1.feature_importances_)\n",
    "\n",
    "# Accuracy 降低"
   ]
  },
  {
   "cell_type": "code",
   "execution_count": 12,
   "metadata": {},
   "outputs": [
    {
     "name": "stdout",
     "output_type": "stream",
     "text": [
      "LinearRegression MSE: 26.95\n",
      "DecisionTreeClassifier MSE: 22.44\n",
      "RandomForestClassifier MSE: 16.83\n"
     ]
    }
   ],
   "source": [
    "# boston\n",
    "boston = datasets.load_boston()\n",
    "x_train, x_test, y_train, y_test = train_test_split(boston.data, boston.target, test_size=0.25, random_state=4)\n",
    "\n",
    "# 迴歸\n",
    "model = LinearRegression()\n",
    "model.fit(x_train, y_train)\n",
    "y_pred = model.predict(x_test)\n",
    "print(\"LinearRegression MSE: %.2f\" % mean_squared_error(y_test, y_pred))\n",
    "\n",
    "# 決策樹\n",
    "model = DecisionTreeRegressor(max_depth=6,min_samples_split=2,min_samples_leaf=5)\n",
    "model.fit(x_train, y_train)\n",
    "y_pred = model.predict(x_test)\n",
    "print(\"DecisionTreeClassifier MSE: %.2f\" % mean_squared_error(y_test, y_pred))\n",
    "\n",
    "# 隨機森林\n",
    "model = RandomForestRegressor(n_estimators=20, max_depth=6,min_samples_split=2,min_samples_leaf=5)\n",
    "model.fit(x_train, y_train)\n",
    "y_pred = model.predict(x_test)\n",
    "print(\"RandomForestClassifier MSE: %.2f\" % mean_squared_error(y_test, y_pred))\n",
    "\n",
    "# 隨機森林 MSE 最低"
   ]
  },
  {
   "cell_type": "code",
   "execution_count": 13,
   "metadata": {},
   "outputs": [
    {
     "name": "stdout",
     "output_type": "stream",
     "text": [
      "LogisticRegression Accuracy:  0.9333333333333333\n",
      "DecisionTreeClassifier Acuuracy:  0.8666666666666667\n",
      "RandomForestClassifier Accuracy:  0.9777777777777777\n"
     ]
    }
   ],
   "source": [
    "# wine\n",
    "wine = datasets.load_wine()\n",
    "x_train, x_test, y_train, y_test = train_test_split(wine.data, wine.target, test_size=0.25, random_state=4)\n",
    "\n",
    "# 迴歸\n",
    "model = LogisticRegression(solver='liblinear', multi_class='auto')\n",
    "model.fit(x_train, y_train)\n",
    "y_pred = model.predict(x_test)\n",
    "print(\"LogisticRegression Accuracy: \", accuracy_score(y_test, y_pred))\n",
    "\n",
    "# 決策樹\n",
    "model = DecisionTreeClassifier(max_depth=6,min_samples_split=2,min_samples_leaf=5)\n",
    "model.fit(x_train, y_train)\n",
    "y_pred = model.predict(x_test)\n",
    "print(\"DecisionTreeClassifier Acuuracy: \", accuracy_score(y_test, y_pred))\n",
    "\n",
    "# 隨機森林\n",
    "model = RandomForestClassifier(n_estimators=20, max_depth=6,min_samples_split=2,min_samples_leaf=5)\n",
    "model.fit(x_train, y_train)\n",
    "y_pred = model.predict(x_test)\n",
    "print(\"RandomForestClassifier Accuracy: \", accuracy_score(y_test, y_pred))\n",
    "\n",
    "# 隨機森林 準確度 最高"
   ]
  }
 ],
 "metadata": {
  "kernelspec": {
   "display_name": "Python 3",
   "language": "python",
   "name": "python3"
  },
  "language_info": {
   "codemirror_mode": {
    "name": "ipython",
    "version": 3
   },
   "file_extension": ".py",
   "mimetype": "text/x-python",
   "name": "python",
   "nbconvert_exporter": "python",
   "pygments_lexer": "ipython3",
   "version": "3.7.1"
  }
 },
 "nbformat": 4,
 "nbformat_minor": 2
}
