{
 "cells": [
  {
   "cell_type": "markdown",
   "metadata": {},
   "source": [
    "## Work\n",
    "1. 試比較 save_best_only 與否的差異\n",
    "2. 請僅存入將 save_weights_only 設定為 True, 並嘗試 reset ipynb 並將模型與權重重新建回並預測 x_test"
   ]
  },
  {
   "cell_type": "code",
   "execution_count": 32,
   "metadata": {},
   "outputs": [],
   "source": [
    "import os\n",
    "import keras\n",
    "import itertools\n",
    "from keras.models import Sequential\n",
    "from keras.layers import Dense,BatchNormalization\n",
    "\n",
    "# Disable GPU\n",
    "os.environ[\"CUDA_VISIBLE_DEVICES\"] = \"\""
   ]
  },
  {
   "cell_type": "code",
   "execution_count": 33,
   "metadata": {},
   "outputs": [],
   "source": [
    "train, test = keras.datasets.cifar10.load_data()"
   ]
  },
  {
   "cell_type": "code",
   "execution_count": 34,
   "metadata": {},
   "outputs": [],
   "source": [
    "## 資料前處理\n",
    "def preproc_x(x, flatten=True):\n",
    "    x = x / 255.\n",
    "    if flatten:\n",
    "        x = x.reshape((len(x), -1))\n",
    "    return x\n",
    "\n",
    "def preproc_y(y, num_classes=10):\n",
    "    if y.shape[-1] == 1:\n",
    "        y = keras.utils.to_categorical(y, num_classes)\n",
    "    return y    "
   ]
  },
  {
   "cell_type": "code",
   "execution_count": 35,
   "metadata": {},
   "outputs": [],
   "source": [
    "x_train, y_train = train\n",
    "x_test, y_test = test\n",
    "\n",
    "# Preproc the inputs\n",
    "x_train = preproc_x(x_train)\n",
    "x_test = preproc_x(x_test)\n",
    "\n",
    "# Preprc the outputs\n",
    "y_train = preproc_y(y_train)\n",
    "y_test = preproc_y(y_test)"
   ]
  },
  {
   "cell_type": "code",
   "execution_count": 39,
   "metadata": {},
   "outputs": [],
   "source": [
    "\"\"\"Code Here\n",
    "建立你的神經網路\n",
    "\"\"\"\n",
    "def build_mlp(input_shape, output_units=10, num_neurons=[512, 256, 128]):\n",
    "    \n",
    "    model = Sequential()\n",
    "    model.add(Dense(units = input_shape[1] ,input_dim = input_shape[1], kernel_initializer = 'normal', activation = 'relu',name = 'input'))\n",
    "    \n",
    "    for i, n_units in enumerate(num_neurons):\n",
    "        model.add(Dense(units=n_units, kernel_initializer='normal', activation='relu',name=\"hidden_layer\"+str(i+1)))  \n",
    "        model.add(BatchNormalization())         \n",
    "    \n",
    "    model.add(Dense(units=output_units,kernel_initializer='normal', activation='softmax',name='output'))\n",
    "\n",
    "    return model"
   ]
  },
  {
   "cell_type": "code",
   "execution_count": 40,
   "metadata": {},
   "outputs": [],
   "source": [
    "\"\"\"Code Here\n",
    "設定超參數\n",
    "\"\"\"\n",
    "LEARNING_RATE = 1e-3\n",
    "EPOCHS = 50\n",
    "BATCH_SIZE = 1024\n",
    "MOMENTUM = 0.95"
   ]
  },
  {
   "cell_type": "code",
   "execution_count": 42,
   "metadata": {},
   "outputs": [
    {
     "name": "stdout",
     "output_type": "stream",
     "text": [
      "Model: \"sequential_2\"\n",
      "_________________________________________________________________\n",
      "Layer (type)                 Output Shape              Param #   \n",
      "=================================================================\n",
      "input (Dense)                (None, 3072)              9440256   \n",
      "_________________________________________________________________\n",
      "hidden_layer1 (Dense)        (None, 512)               1573376   \n",
      "_________________________________________________________________\n",
      "batch_normalization_1 (Batch (None, 512)               2048      \n",
      "_________________________________________________________________\n",
      "hidden_layer2 (Dense)        (None, 256)               131328    \n",
      "_________________________________________________________________\n",
      "batch_normalization_2 (Batch (None, 256)               1024      \n",
      "_________________________________________________________________\n",
      "hidden_layer3 (Dense)        (None, 128)               32896     \n",
      "_________________________________________________________________\n",
      "batch_normalization_3 (Batch (None, 128)               512       \n",
      "_________________________________________________________________\n",
      "output (Dense)               (None, 10)                1290      \n",
      "=================================================================\n",
      "Total params: 11,182,730\n",
      "Trainable params: 11,180,938\n",
      "Non-trainable params: 1,792\n",
      "_________________________________________________________________\n",
      "Train on 50000 samples, validate on 10000 samples\n",
      "Epoch 1/50\n",
      "50000/50000 [==============================] - 14s 282us/step - loss: 0.3298 - accuracy: 0.8995 - val_loss: 0.3257 - val_accuracy: 0.9000\n",
      "Epoch 2/50\n",
      "50000/50000 [==============================] - 14s 288us/step - loss: 0.3146 - accuracy: 0.8996 - val_loss: 0.3149 - val_accuracy: 0.9000\n",
      "Epoch 3/50\n",
      "50000/50000 [==============================] - 15s 301us/step - loss: 0.3034 - accuracy: 0.8998 - val_loss: 0.3054 - val_accuracy: 0.9000\n",
      "Epoch 4/50\n",
      "50000/50000 [==============================] - 16s 317us/step - loss: 0.2953 - accuracy: 0.9002 - val_loss: 0.2965 - val_accuracy: 0.9003\n",
      "Epoch 5/50\n",
      "50000/50000 [==============================] - 18s 366us/step - loss: 0.2893 - accuracy: 0.9008 - val_loss: 0.2893 - val_accuracy: 0.9011\n",
      "Epoch 6/50\n",
      "50000/50000 [==============================] - 17s 348us/step - loss: 0.2843 - accuracy: 0.9013 - val_loss: 0.2838 - val_accuracy: 0.9017\n",
      "Epoch 7/50\n",
      "50000/50000 [==============================] - 19s 383us/step - loss: 0.2804 - accuracy: 0.9017 - val_loss: 0.2796 - val_accuracy: 0.9020\n",
      "Epoch 8/50\n",
      "50000/50000 [==============================] - 19s 372us/step - loss: 0.2769 - accuracy: 0.9020 - val_loss: 0.2763 - val_accuracy: 0.9024\n",
      "Epoch 9/50\n",
      "50000/50000 [==============================] - 21s 419us/step - loss: 0.2739 - accuracy: 0.9025 - val_loss: 0.2736 - val_accuracy: 0.9026\n",
      "Epoch 10/50\n",
      "50000/50000 [==============================] - 20s 393us/step - loss: 0.2713 - accuracy: 0.9030 - val_loss: 0.2713 - val_accuracy: 0.9029\n",
      "Epoch 11/50\n",
      "50000/50000 [==============================] - 20s 391us/step - loss: 0.2689 - accuracy: 0.9034 - val_loss: 0.2694 - val_accuracy: 0.9032\n",
      "Epoch 12/50\n",
      "50000/50000 [==============================] - 21s 423us/step - loss: 0.2668 - accuracy: 0.9038 - val_loss: 0.2676 - val_accuracy: 0.9037\n",
      "Epoch 13/50\n",
      "50000/50000 [==============================] - 21s 415us/step - loss: 0.2648 - accuracy: 0.9041 - val_loss: 0.2661 - val_accuracy: 0.9040\n",
      "Epoch 14/50\n",
      "50000/50000 [==============================] - 20s 408us/step - loss: 0.2630 - accuracy: 0.9045 - val_loss: 0.2647 - val_accuracy: 0.9043\n",
      "Epoch 15/50\n",
      "50000/50000 [==============================] - 21s 411us/step - loss: 0.2612 - accuracy: 0.9049 - val_loss: 0.2633 - val_accuracy: 0.9046\n",
      "Epoch 16/50\n",
      "50000/50000 [==============================] - 22s 440us/step - loss: 0.2597 - accuracy: 0.9053 - val_loss: 0.2620 - val_accuracy: 0.9050\n",
      "Epoch 17/50\n",
      "50000/50000 [==============================] - 22s 436us/step - loss: 0.2583 - accuracy: 0.9056 - val_loss: 0.2609 - val_accuracy: 0.9051\n",
      "Epoch 18/50\n",
      "50000/50000 [==============================] - 21s 422us/step - loss: 0.2569 - accuracy: 0.9059 - val_loss: 0.2597 - val_accuracy: 0.9053\n",
      "Epoch 19/50\n",
      "50000/50000 [==============================] - 22s 448us/step - loss: 0.2555 - accuracy: 0.9061 - val_loss: 0.2587 - val_accuracy: 0.9056\n",
      "Epoch 20/50\n",
      "50000/50000 [==============================] - 21s 422us/step - loss: 0.2542 - accuracy: 0.9065 - val_loss: 0.2577 - val_accuracy: 0.9057\n",
      "Epoch 21/50\n",
      "50000/50000 [==============================] - 21s 417us/step - loss: 0.2530 - accuracy: 0.9069 - val_loss: 0.2567 - val_accuracy: 0.9060\n",
      "Epoch 22/50\n",
      "50000/50000 [==============================] - 21s 425us/step - loss: 0.2520 - accuracy: 0.9069 - val_loss: 0.2558 - val_accuracy: 0.9062\n",
      "Epoch 23/50\n",
      "50000/50000 [==============================] - 21s 421us/step - loss: 0.2508 - accuracy: 0.9073 - val_loss: 0.2549 - val_accuracy: 0.9064\n",
      "Epoch 24/50\n",
      "50000/50000 [==============================] - 21s 428us/step - loss: 0.2497 - accuracy: 0.9075 - val_loss: 0.2540 - val_accuracy: 0.9066\n",
      "Epoch 25/50\n",
      "50000/50000 [==============================] - 21s 426us/step - loss: 0.2487 - accuracy: 0.9079 - val_loss: 0.2532 - val_accuracy: 0.9067\n",
      "Epoch 26/50\n",
      "50000/50000 [==============================] - 21s 422us/step - loss: 0.2476 - accuracy: 0.9081 - val_loss: 0.2525 - val_accuracy: 0.9069\n",
      "Epoch 27/50\n",
      "50000/50000 [==============================] - 21s 423us/step - loss: 0.2466 - accuracy: 0.9084 - val_loss: 0.2517 - val_accuracy: 0.9071\n",
      "Epoch 28/50\n",
      "50000/50000 [==============================] - 21s 427us/step - loss: 0.2456 - accuracy: 0.9087 - val_loss: 0.2510 - val_accuracy: 0.9073\n",
      "Epoch 29/50\n",
      "50000/50000 [==============================] - 21s 425us/step - loss: 0.2448 - accuracy: 0.9089 - val_loss: 0.2503 - val_accuracy: 0.9077\n",
      "Epoch 30/50\n",
      "50000/50000 [==============================] - 22s 436us/step - loss: 0.2438 - accuracy: 0.9091 - val_loss: 0.2496 - val_accuracy: 0.9077\n",
      "Epoch 31/50\n",
      "50000/50000 [==============================] - 21s 423us/step - loss: 0.2428 - accuracy: 0.9093 - val_loss: 0.2489 - val_accuracy: 0.9079\n",
      "Epoch 32/50\n",
      "50000/50000 [==============================] - 22s 433us/step - loss: 0.2420 - accuracy: 0.9096 - val_loss: 0.2483 - val_accuracy: 0.9081\n",
      "Epoch 33/50\n",
      "50000/50000 [==============================] - 22s 441us/step - loss: 0.2412 - accuracy: 0.9099 - val_loss: 0.2477 - val_accuracy: 0.9083\n",
      "Epoch 34/50\n",
      "50000/50000 [==============================] - 21s 425us/step - loss: 0.2404 - accuracy: 0.9101 - val_loss: 0.2471 - val_accuracy: 0.9086\n",
      "Epoch 35/50\n",
      "50000/50000 [==============================] - 21s 427us/step - loss: 0.2395 - accuracy: 0.9105 - val_loss: 0.2466 - val_accuracy: 0.9088\n",
      "Epoch 36/50\n",
      "50000/50000 [==============================] - 22s 431us/step - loss: 0.2387 - accuracy: 0.9106 - val_loss: 0.2460 - val_accuracy: 0.9090\n",
      "Epoch 37/50\n",
      "50000/50000 [==============================] - 23s 456us/step - loss: 0.2380 - accuracy: 0.9109 - val_loss: 0.2454 - val_accuracy: 0.9090\n",
      "Epoch 38/50\n",
      "50000/50000 [==============================] - 22s 431us/step - loss: 0.2372 - accuracy: 0.9112 - val_loss: 0.2449 - val_accuracy: 0.9090\n",
      "Epoch 39/50\n",
      "50000/50000 [==============================] - 22s 431us/step - loss: 0.2364 - accuracy: 0.9113 - val_loss: 0.2444 - val_accuracy: 0.9092\n",
      "Epoch 40/50\n",
      "50000/50000 [==============================] - 21s 427us/step - loss: 0.2356 - accuracy: 0.9116 - val_loss: 0.2438 - val_accuracy: 0.9093\n",
      "Epoch 41/50\n",
      "50000/50000 [==============================] - 22s 432us/step - loss: 0.2349 - accuracy: 0.9119 - val_loss: 0.2434 - val_accuracy: 0.9095\n",
      "Epoch 42/50\n",
      "50000/50000 [==============================] - 21s 427us/step - loss: 0.2342 - accuracy: 0.9121 - val_loss: 0.2430 - val_accuracy: 0.9098\n",
      "Epoch 43/50\n",
      "50000/50000 [==============================] - 21s 425us/step - loss: 0.2335 - accuracy: 0.9124 - val_loss: 0.2425 - val_accuracy: 0.9097\n",
      "Epoch 44/50\n",
      "50000/50000 [==============================] - 22s 441us/step - loss: 0.2329 - accuracy: 0.9125 - val_loss: 0.2420 - val_accuracy: 0.9099\n",
      "Epoch 45/50\n",
      "50000/50000 [==============================] - 21s 429us/step - loss: 0.2322 - accuracy: 0.9128 - val_loss: 0.2416 - val_accuracy: 0.9100\n"
     ]
    },
    {
     "name": "stdout",
     "output_type": "stream",
     "text": [
      "Epoch 46/50\n",
      "50000/50000 [==============================] - 21s 427us/step - loss: 0.2315 - accuracy: 0.9130 - val_loss: 0.2412 - val_accuracy: 0.9101\n",
      "Epoch 47/50\n",
      "50000/50000 [==============================] - 21s 428us/step - loss: 0.2308 - accuracy: 0.9132 - val_loss: 0.2408 - val_accuracy: 0.9102\n",
      "Epoch 48/50\n",
      "50000/50000 [==============================] - 22s 442us/step - loss: 0.2301 - accuracy: 0.9135 - val_loss: 0.2403 - val_accuracy: 0.9105\n",
      "Epoch 49/50\n",
      "50000/50000 [==============================] - 23s 451us/step - loss: 0.2295 - accuracy: 0.9136 - val_loss: 0.2400 - val_accuracy: 0.9104\n",
      "Epoch 50/50\n",
      "50000/50000 [==============================] - 23s 452us/step - loss: 0.2289 - accuracy: 0.9139 - val_loss: 0.2395 - val_accuracy: 0.9105\n",
      "10000/10000 [==============================] - 3s 297us/step\n"
     ]
    }
   ],
   "source": [
    "# 載入 Callbacks\n",
    "\"\"\"Code Here\n",
    "設定 callbacks: model checkpoint\n",
    "\"\"\"\n",
    "from keras.callbacks import ModelCheckpoint\n",
    "\n",
    "model_ckpt = ModelCheckpoint(filepath=\"./tmp.h5\", \n",
    "                             monitor=\"val_loss\", \n",
    "                             save_best_only=True)\n",
    "#results = {}\n",
    "\n",
    "\"\"\"Code Here\n",
    "撰寫你的訓練流程並將結果用 dictionary 紀錄\n",
    "\"\"\"\n",
    "model = build_mlp(input_shape=x_train.shape)\n",
    "model.summary()\n",
    "optimizer = keras.optimizers.SGD(lr=LEARNING_RATE, nesterov=True, momentum=MOMENTUM)\n",
    "model.compile(loss=\"binary_crossentropy\", metrics=[\"accuracy\"], optimizer=optimizer)\n",
    "\n",
    "model.fit(x_train, y_train, \n",
    "          epochs=EPOCHS, \n",
    "          batch_size=BATCH_SIZE, \n",
    "          validation_data=(x_test, y_test), \n",
    "          shuffle=True,\n",
    "          callbacks=[model_ckpt]\n",
    "         )\n",
    "#model.save(\"final_model.h5\")\n",
    "model.save_weights(\"model_weights.h5\")\n",
    "\n",
    "# Collect results\n",
    "train_loss = model.history.history[\"loss\"]\n",
    "valid_loss = model.history.history[\"val_loss\"]\n",
    "train_acc = model.history.history[\"accuracy\"]\n",
    "valid_acc = model.history.history[\"val_accuracy\"]\n",
    "pred_final = model.predict(x_test)\n",
    "\n",
    "# Load back\n",
    "model = keras.models.load_model(\"./tmp.h5\")\n",
    "loss_loadback, acc_loadback = model.evaluate(x_test, y_test)\n",
    "pred_loadback = model.predict(x_test)"
   ]
  },
  {
   "cell_type": "code",
   "execution_count": 43,
   "metadata": {},
   "outputs": [
    {
     "data": {
      "image/png": "[encoded data removed]",
      "text/plain": [
       "<Figure size 432x288 with 1 Axes>"
      ]
     },
     "metadata": {
      "needs_background": "light"
     },
     "output_type": "display_data"
    },
    {
     "data": {
      "image/png": "[encoded data removed]",
      "text/plain": [
       "<Figure size 432x288 with 1 Axes>"
      ]
     },
     "metadata": {
      "needs_background": "light"
     },
     "output_type": "display_data"
    }
   ],
   "source": [
    "import matplotlib.pyplot as plt\n",
    "%matplotlib inline\n",
    "\n",
    "plt.plot(range(len(train_loss)), train_loss, label=\"train loss\")\n",
    "plt.plot(range(len(valid_loss)), valid_loss, label=\"valid loss\")\n",
    "plt.hlines(y=loss_loadback, xmin=0, xmax=len(train_loss), colors='green', linestyles='--')\n",
    "plt.legend()\n",
    "plt.title(\"Loss\")\n",
    "plt.show()\n",
    "\n",
    "plt.plot(range(len(train_acc)), train_acc, label=\"train accuracy\")\n",
    "plt.plot(range(len(valid_acc)), valid_acc, label=\"valid accuracy\")\n",
    "plt.hlines(y=acc_loadback, xmin=0, xmax=len(train_loss), colors='green', linestyles='--')\n",
    "plt.legend()\n",
    "plt.title(\"Accuracy\")\n",
    "plt.show()"
   ]
  },
  {
   "cell_type": "code",
   "execution_count": 44,
   "metadata": {
    "scrolled": true
   },
   "outputs": [
    {
     "name": "stdout",
     "output_type": "stream",
     "text": [
      "Accuracy of final weights: 0.440\n",
      "Accuracy of best weights: 0.440\n"
     ]
    }
   ],
   "source": [
    "from sklearn.metrics import accuracy_score\n",
    "\n",
    "final_model_acc = accuracy_score(y_true=y_test.argmax(axis=-1), y_pred=pred_final.argmax(axis=-1))\n",
    "loadback_acc = accuracy_score(y_true=y_test.argmax(axis=-1), y_pred=pred_loadback.argmax(axis=-1))\n",
    "\n",
    "print(\"Accuracy of final weights: %.3f\" % final_model_acc)\n",
    "print(\"Accuracy of best weights: %.3f\" % loadback_acc)"
   ]
  },
  {
   "cell_type": "code",
   "execution_count": 47,
   "metadata": {},
   "outputs": [
    {
     "name": "stdout",
     "output_type": "stream",
     "text": [
      "Accuracy of best weights: 0.107\n",
      "Accuracy of loadback best weights: 0.440\n"
     ]
    }
   ],
   "source": [
    "new_model = build_mlp(input_shape=x_train.shape)\n",
    "new_model_pred = new_model.predict(x_test)\n",
    "new_model_acc = accuracy_score(y_true=y_test.argmax(axis=-1), y_pred=new_model_pred.argmax(axis=-1))\n",
    "print(\"Accuracy of best weights: %.3f\" % new_model_acc)\n",
    "\n",
    "new_model.load_weights(\"./model_weights.h5\")\n",
    "new_model_pred = new_model.predict(x_test)\n",
    "new_model_loadback_acc = accuracy_score(y_true=y_test.argmax(axis=-1), y_pred=new_model_pred.argmax(axis=-1))\n",
    "print(\"Accuracy of loadback best weights: %.3f\" % new_model_loadback_acc)"
   ]
  },
  {
   "cell_type": "code",
   "execution_count": null,
   "metadata": {},
   "outputs": [],
   "source": []
  }
 ],
 "metadata": {
  "kernelspec": {
   "display_name": "Python 3",
   "language": "python",
   "name": "python3"
  },
  "language_info": {
   "codemirror_mode": {
    "name": "ipython",
    "version": 3
   },
   "file_extension": ".py",
   "mimetype": "text/x-python",
   "name": "python",
   "nbconvert_exporter": "python",
   "pygments_lexer": "ipython3",
   "version": "3.7.1"
  }
 },
 "nbformat": 4,
 "nbformat_minor": 2
}
