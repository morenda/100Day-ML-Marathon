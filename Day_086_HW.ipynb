{
 "cells": [
  {
   "cell_type": "markdown",
   "metadata": {},
   "source": [
    "## Work\n",
    "1. 試比較 save_best_only 與否的差異\n",
    "2. 請僅存入將 save_weights_only 設定為 True, 並嘗試 reset ipynb 並將模型與權重重新建回並預測 x_test"
   ]
  },
  {
   "cell_type": "code",
   "execution_count": 48,
   "metadata": {},
   "outputs": [],
   "source": [
    "import os\n",
    "import keras\n",
    "import itertools\n",
    "from keras.models import Sequential\n",
    "from keras.layers import Dense,BatchNormalization\n",
    "\n",
    "# Disable GPU\n",
    "os.environ[\"CUDA_VISIBLE_DEVICES\"] = \"\""
   ]
  },
  {
   "cell_type": "code",
   "execution_count": 49,
   "metadata": {},
   "outputs": [],
   "source": [
    "train, test = keras.datasets.cifar10.load_data()"
   ]
  },
  {
   "cell_type": "code",
   "execution_count": 50,
   "metadata": {},
   "outputs": [],
   "source": [
    "## 資料前處理\n",
    "def preproc_x(x, flatten=True):\n",
    "    x = x / 255.\n",
    "    if flatten:\n",
    "        x = x.reshape((len(x), -1))\n",
    "    return x\n",
    "\n",
    "def preproc_y(y, num_classes=10):\n",
    "    if y.shape[-1] == 1:\n",
    "        y = keras.utils.to_categorical(y, num_classes)\n",
    "    return y    "
   ]
  },
  {
   "cell_type": "code",
   "execution_count": 51,
   "metadata": {},
   "outputs": [],
   "source": [
    "x_train, y_train = train\n",
    "x_test, y_test = test\n",
    "\n",
    "# Preproc the inputs\n",
    "x_train = preproc_x(x_train)\n",
    "x_test = preproc_x(x_test)\n",
    "\n",
    "# Preprc the outputs\n",
    "y_train = preproc_y(y_train)\n",
    "y_test = preproc_y(y_test)"
   ]
  },
  {
   "cell_type": "code",
   "execution_count": 52,
   "metadata": {},
   "outputs": [],
   "source": [
    "\"\"\"Code Here\n",
    "建立你的神經網路\n",
    "\"\"\"\n",
    "def build_mlp(input_shape, output_units=10, num_neurons=[512, 256, 128]):\n",
    "    \n",
    "    model = Sequential()\n",
    "    model.add(Dense(units = input_shape[1] ,input_dim = input_shape[1], kernel_initializer = 'normal', activation = 'relu',name = 'input'))\n",
    "    \n",
    "    for i, n_units in enumerate(num_neurons):\n",
    "        model.add(Dense(units=n_units, kernel_initializer='normal', activation='relu',name=\"hidden_layer\"+str(i+1)))  \n",
    "        model.add(BatchNormalization())         \n",
    "    \n",
    "    model.add(Dense(units=output_units,kernel_initializer='normal', activation='softmax',name='output'))\n",
    "\n",
    "    return model"
   ]
  },
  {
   "cell_type": "code",
   "execution_count": 53,
   "metadata": {},
   "outputs": [],
   "source": [
    "\"\"\"Code Here\n",
    "設定超參數\n",
    "\"\"\"\n",
    "LEARNING_RATE = 1e-3\n",
    "EPOCHS = 50\n",
    "BATCH_SIZE = 1024\n",
    "MOMENTUM = 0.95"
   ]
  },
  {
   "cell_type": "code",
   "execution_count": 54,
   "metadata": {},
   "outputs": [
    {
     "name": "stdout",
     "output_type": "stream",
     "text": [
      "Model: \"sequential_6\"\n",
      "_________________________________________________________________\n",
      "Layer (type)                 Output Shape              Param #   \n",
      "=================================================================\n",
      "input (Dense)                (None, 3072)              9440256   \n",
      "_________________________________________________________________\n",
      "hidden_layer1 (Dense)        (None, 512)               1573376   \n",
      "_________________________________________________________________\n",
      "batch_normalization_10 (Batc (None, 512)               2048      \n",
      "_________________________________________________________________\n",
      "hidden_layer2 (Dense)        (None, 256)               131328    \n",
      "_________________________________________________________________\n",
      "batch_normalization_11 (Batc (None, 256)               1024      \n",
      "_________________________________________________________________\n",
      "hidden_layer3 (Dense)        (None, 128)               32896     \n",
      "_________________________________________________________________\n",
      "batch_normalization_12 (Batc (None, 128)               512       \n",
      "_________________________________________________________________\n",
      "output (Dense)               (None, 10)                1290      \n",
      "=================================================================\n",
      "Total params: 11,182,730\n",
      "Trainable params: 11,180,938\n",
      "Non-trainable params: 1,792\n",
      "_________________________________________________________________\n",
      "Train on 50000 samples, validate on 10000 samples\n",
      "Epoch 1/50\n",
      "50000/50000 [==============================] - 15s 298us/step - loss: 0.3414 - accuracy: 0.8993 - val_loss: 0.3258 - val_accuracy: 0.9000\n",
      "Epoch 2/50\n",
      "50000/50000 [==============================] - 15s 295us/step - loss: 0.3223 - accuracy: 0.8996 - val_loss: 0.3153 - val_accuracy: 0.9000\n",
      "Epoch 3/50\n",
      "50000/50000 [==============================] - 16s 314us/step - loss: 0.3092 - accuracy: 0.9001 - val_loss: 0.3070 - val_accuracy: 0.9004\n",
      "Epoch 4/50\n",
      "50000/50000 [==============================] - 16s 327us/step - loss: 0.3004 - accuracy: 0.9006 - val_loss: 0.2995 - val_accuracy: 0.9008\n",
      "Epoch 5/50\n",
      "50000/50000 [==============================] - 17s 337us/step - loss: 0.2939 - accuracy: 0.9010 - val_loss: 0.2934 - val_accuracy: 0.9013\n",
      "Epoch 6/50\n",
      "50000/50000 [==============================] - 17s 349us/step - loss: 0.2890 - accuracy: 0.9013 - val_loss: 0.2885 - val_accuracy: 0.9016\n",
      "Epoch 7/50\n",
      "50000/50000 [==============================] - 18s 358us/step - loss: 0.2848 - accuracy: 0.9016 - val_loss: 0.2846 - val_accuracy: 0.9020\n",
      "Epoch 8/50\n",
      "50000/50000 [==============================] - 19s 373us/step - loss: 0.2813 - accuracy: 0.9021 - val_loss: 0.2815 - val_accuracy: 0.9021\n",
      "Epoch 9/50\n",
      "50000/50000 [==============================] - 19s 375us/step - loss: 0.2782 - accuracy: 0.9024 - val_loss: 0.2788 - val_accuracy: 0.9023\n",
      "Epoch 10/50\n",
      "50000/50000 [==============================] - 19s 385us/step - loss: 0.2755 - accuracy: 0.9026 - val_loss: 0.2764 - val_accuracy: 0.9026\n",
      "Epoch 11/50\n",
      "50000/50000 [==============================] - 20s 407us/step - loss: 0.2730 - accuracy: 0.9030 - val_loss: 0.2744 - val_accuracy: 0.9030\n",
      "Epoch 12/50\n",
      "50000/50000 [==============================] - 21s 413us/step - loss: 0.2708 - accuracy: 0.9033 - val_loss: 0.2725 - val_accuracy: 0.9033\n",
      "Epoch 13/50\n",
      "50000/50000 [==============================] - 20s 408us/step - loss: 0.2687 - accuracy: 0.9036 - val_loss: 0.2708 - val_accuracy: 0.9034\n",
      "Epoch 14/50\n",
      "50000/50000 [==============================] - 20s 405us/step - loss: 0.2668 - accuracy: 0.9040 - val_loss: 0.2692 - val_accuracy: 0.9037\n",
      "Epoch 15/50\n",
      "50000/50000 [==============================] - 21s 414us/step - loss: 0.2650 - accuracy: 0.9043 - val_loss: 0.2677 - val_accuracy: 0.9036\n",
      "Epoch 16/50\n",
      "50000/50000 [==============================] - 21s 427us/step - loss: 0.2632 - accuracy: 0.9047 - val_loss: 0.2664 - val_accuracy: 0.9040\n",
      "Epoch 17/50\n",
      "50000/50000 [==============================] - 21s 418us/step - loss: 0.2617 - accuracy: 0.9050 - val_loss: 0.2651 - val_accuracy: 0.9043\n",
      "Epoch 18/50\n",
      "50000/50000 [==============================] - 21s 427us/step - loss: 0.2601 - accuracy: 0.9053 - val_loss: 0.2639 - val_accuracy: 0.9044\n",
      "Epoch 19/50\n",
      "50000/50000 [==============================] - 22s 431us/step - loss: 0.2588 - accuracy: 0.9054 - val_loss: 0.2627 - val_accuracy: 0.9047\n",
      "Epoch 20/50\n",
      "50000/50000 [==============================] - 22s 448us/step - loss: 0.2573 - accuracy: 0.9058 - val_loss: 0.2615 - val_accuracy: 0.9048\n",
      "Epoch 21/50\n",
      "50000/50000 [==============================] - 22s 441us/step - loss: 0.2561 - accuracy: 0.9060 - val_loss: 0.2604 - val_accuracy: 0.9050\n",
      "Epoch 22/50\n",
      "50000/50000 [==============================] - 22s 439us/step - loss: 0.2548 - accuracy: 0.9065 - val_loss: 0.2594 - val_accuracy: 0.9054\n",
      "Epoch 23/50\n",
      "50000/50000 [==============================] - 22s 436us/step - loss: 0.2536 - accuracy: 0.9067 - val_loss: 0.2585 - val_accuracy: 0.9057\n",
      "Epoch 24/50\n",
      "50000/50000 [==============================] - 23s 461us/step - loss: 0.2524 - accuracy: 0.9069 - val_loss: 0.2574 - val_accuracy: 0.9059\n",
      "Epoch 25/50\n",
      "50000/50000 [==============================] - 23s 453us/step - loss: 0.2513 - accuracy: 0.9071 - val_loss: 0.2565 - val_accuracy: 0.9061\n",
      "Epoch 26/50\n",
      "50000/50000 [==============================] - 22s 446us/step - loss: 0.2501 - accuracy: 0.9074 - val_loss: 0.2556 - val_accuracy: 0.9063\n",
      "Epoch 27/50\n",
      "50000/50000 [==============================] - 22s 444us/step - loss: 0.2491 - accuracy: 0.9077 - val_loss: 0.2548 - val_accuracy: 0.9064\n",
      "Epoch 28/50\n",
      "50000/50000 [==============================] - 22s 442us/step - loss: 0.2480 - accuracy: 0.9081 - val_loss: 0.2539 - val_accuracy: 0.9065\n",
      "Epoch 29/50\n",
      "50000/50000 [==============================] - 21s 427us/step - loss: 0.2471 - accuracy: 0.9083 - val_loss: 0.2531 - val_accuracy: 0.9066\n",
      "Epoch 30/50\n",
      "50000/50000 [==============================] - 22s 431us/step - loss: 0.2461 - accuracy: 0.9085 - val_loss: 0.2524 - val_accuracy: 0.9070\n",
      "Epoch 31/50\n",
      "50000/50000 [==============================] - 22s 431us/step - loss: 0.2452 - accuracy: 0.9089 - val_loss: 0.2516 - val_accuracy: 0.9071\n",
      "Epoch 32/50\n",
      "50000/50000 [==============================] - 21s 423us/step - loss: 0.2442 - accuracy: 0.9090 - val_loss: 0.2508 - val_accuracy: 0.9074\n",
      "Epoch 33/50\n",
      "50000/50000 [==============================] - 22s 432us/step - loss: 0.2433 - accuracy: 0.9093 - val_loss: 0.2502 - val_accuracy: 0.9074\n",
      "Epoch 34/50\n",
      "50000/50000 [==============================] - 21s 427us/step - loss: 0.2424 - accuracy: 0.9096 - val_loss: 0.2496 - val_accuracy: 0.9075\n",
      "Epoch 35/50\n",
      "50000/50000 [==============================] - 21s 425us/step - loss: 0.2416 - accuracy: 0.9098 - val_loss: 0.2489 - val_accuracy: 0.9077\n",
      "Epoch 36/50\n",
      "50000/50000 [==============================] - 21s 430us/step - loss: 0.2407 - accuracy: 0.9100 - val_loss: 0.2483 - val_accuracy: 0.9080\n",
      "Epoch 37/50\n",
      "50000/50000 [==============================] - 21s 425us/step - loss: 0.2398 - accuracy: 0.9104 - val_loss: 0.2477 - val_accuracy: 0.9082\n",
      "Epoch 38/50\n",
      "50000/50000 [==============================] - 21s 425us/step - loss: 0.2391 - accuracy: 0.9106 - val_loss: 0.2471 - val_accuracy: 0.9083\n",
      "Epoch 39/50\n",
      "50000/50000 [==============================] - 22s 431us/step - loss: 0.2382 - accuracy: 0.9109 - val_loss: 0.2465 - val_accuracy: 0.9085\n",
      "Epoch 40/50\n",
      "50000/50000 [==============================] - 21s 423us/step - loss: 0.2374 - accuracy: 0.9112 - val_loss: 0.2459 - val_accuracy: 0.9088\n",
      "Epoch 41/50\n",
      "50000/50000 [==============================] - 21s 426us/step - loss: 0.2367 - accuracy: 0.9114 - val_loss: 0.2455 - val_accuracy: 0.9089\n",
      "Epoch 42/50\n",
      "50000/50000 [==============================] - 22s 430us/step - loss: 0.2360 - accuracy: 0.9117 - val_loss: 0.2449 - val_accuracy: 0.9090\n",
      "Epoch 43/50\n",
      "50000/50000 [==============================] - 21s 425us/step - loss: 0.2352 - accuracy: 0.9120 - val_loss: 0.2444 - val_accuracy: 0.9091\n",
      "Epoch 44/50\n",
      "50000/50000 [==============================] - 22s 450us/step - loss: 0.2345 - accuracy: 0.9120 - val_loss: 0.2440 - val_accuracy: 0.9092\n",
      "Epoch 45/50\n",
      "50000/50000 [==============================] - 21s 428us/step - loss: 0.2337 - accuracy: 0.9124 - val_loss: 0.2434 - val_accuracy: 0.9092\n"
     ]
    },
    {
     "name": "stdout",
     "output_type": "stream",
     "text": [
      "Epoch 46/50\n",
      "50000/50000 [==============================] - 21s 427us/step - loss: 0.2331 - accuracy: 0.9125 - val_loss: 0.2429 - val_accuracy: 0.9096\n",
      "Epoch 47/50\n",
      "50000/50000 [==============================] - 21s 427us/step - loss: 0.2324 - accuracy: 0.9129 - val_loss: 0.2425 - val_accuracy: 0.9097\n",
      "Epoch 48/50\n",
      "50000/50000 [==============================] - 21s 426us/step - loss: 0.2317 - accuracy: 0.9131 - val_loss: 0.2421 - val_accuracy: 0.9096\n",
      "Epoch 49/50\n",
      "50000/50000 [==============================] - 21s 430us/step - loss: 0.2310 - accuracy: 0.9133 - val_loss: 0.2416 - val_accuracy: 0.9097\n",
      "Epoch 50/50\n",
      "50000/50000 [==============================] - 22s 435us/step - loss: 0.2302 - accuracy: 0.9135 - val_loss: 0.2412 - val_accuracy: 0.9098\n",
      "10000/10000 [==============================] - 3s 274us/step\n"
     ]
    }
   ],
   "source": [
    "# 載入 Callbacks\n",
    "\"\"\"Code Here\n",
    "設定 callbacks: model checkpoint\n",
    "\"\"\"\n",
    "from keras.callbacks import ModelCheckpoint\n",
    "\n",
    "model_ckpt = ModelCheckpoint(filepath=\"./tmp.h5\", \n",
    "                             monitor=\"val_loss\", \n",
    "                             save_best_only=True)\n",
    "#results = {}\n",
    "\n",
    "\"\"\"Code Here\n",
    "撰寫你的訓練流程並將結果用 dictionary 紀錄\n",
    "\"\"\"\n",
    "model = build_mlp(input_shape=x_train.shape)\n",
    "model.summary()\n",
    "optimizer = keras.optimizers.SGD(lr=LEARNING_RATE, nesterov=True, momentum=MOMENTUM)\n",
    "model.compile(loss=\"binary_crossentropy\", metrics=[\"accuracy\"], optimizer=optimizer)\n",
    "\n",
    "model.fit(x_train, y_train, \n",
    "          epochs=EPOCHS, \n",
    "          batch_size=BATCH_SIZE, \n",
    "          validation_data=(x_test, y_test), \n",
    "          shuffle=True,\n",
    "          callbacks=[model_ckpt]\n",
    "         )\n",
    "model.save(\"final_model.h5\")\n",
    "model.save_weights(\"model_weights.h5\")\n",
    "\n",
    "# Collect results\n",
    "train_loss = model.history.history[\"loss\"]\n",
    "valid_loss = model.history.history[\"val_loss\"]\n",
    "train_acc = model.history.history[\"accuracy\"]\n",
    "valid_acc = model.history.history[\"val_accuracy\"]\n",
    "pred_final = model.predict(x_test)\n",
    "\n",
    "# Load back\n",
    "model = keras.models.load_model(\"./tmp.h5\")\n",
    "loss_loadback, acc_loadback = model.evaluate(x_test, y_test)\n",
    "pred_loadback = model.predict(x_test)"
   ]
  },
  {
   "cell_type": "code",
   "execution_count": 55,
   "metadata": {},
   "outputs": [
    {
     "data": {
      "image/png": "[encoded data removed]",
      "text/plain": [
       "<Figure size 432x288 with 1 Axes>"
      ]
     },
     "metadata": {
      "needs_background": "light"
     },
     "output_type": "display_data"
    },
    {
     "data": {
      "image/png": "[encoded data removed]",
      "text/plain": [
       "<Figure size 432x288 with 1 Axes>"
      ]
     },
     "metadata": {
      "needs_background": "light"
     },
     "output_type": "display_data"
    }
   ],
   "source": [
    "import matplotlib.pyplot as plt\n",
    "%matplotlib inline\n",
    "\n",
    "plt.plot(range(len(train_loss)), train_loss, label=\"train loss\")\n",
    "plt.plot(range(len(valid_loss)), valid_loss, label=\"valid loss\")\n",
    "plt.hlines(y=loss_loadback, xmin=0, xmax=len(train_loss), colors='green', linestyles='--')\n",
    "plt.legend()\n",
    "plt.title(\"Loss\")\n",
    "plt.show()\n",
    "\n",
    "plt.plot(range(len(train_acc)), train_acc, label=\"train accuracy\")\n",
    "plt.plot(range(len(valid_acc)), valid_acc, label=\"valid accuracy\")\n",
    "plt.hlines(y=acc_loadback, xmin=0, xmax=len(train_loss), colors='green', linestyles='--')\n",
    "plt.legend()\n",
    "plt.title(\"Accuracy\")\n",
    "plt.show()"
   ]
  },
  {
   "cell_type": "code",
   "execution_count": 56,
   "metadata": {
    "scrolled": true
   },
   "outputs": [
    {
     "name": "stdout",
     "output_type": "stream",
     "text": [
      "Accuracy of final weights: 0.432\n",
      "Accuracy of best weights: 0.432\n"
     ]
    }
   ],
   "source": [
    "from sklearn.metrics import accuracy_score\n",
    "\n",
    "final_model_acc = accuracy_score(y_true=y_test.argmax(axis=-1), y_pred=pred_final.argmax(axis=-1))\n",
    "loadback_acc = accuracy_score(y_true=y_test.argmax(axis=-1), y_pred=pred_loadback.argmax(axis=-1))\n",
    "\n",
    "print(\"Accuracy of final weights: %.3f\" % final_model_acc)\n",
    "print(\"Accuracy of best weights: %.3f\" % loadback_acc)"
   ]
  },
  {
   "cell_type": "code",
   "execution_count": 57,
   "metadata": {},
   "outputs": [
    {
     "name": "stdout",
     "output_type": "stream",
     "text": [
      "Accuracy of best weights: 0.109\n",
      "Accuracy of loadback best weights: 0.432\n"
     ]
    }
   ],
   "source": [
    "new_model = build_mlp(input_shape=x_train.shape)\n",
    "new_model_pred = new_model.predict(x_test)\n",
    "new_model_acc = accuracy_score(y_true=y_test.argmax(axis=-1), y_pred=new_model_pred.argmax(axis=-1))\n",
    "print(\"Accuracy of best weights: %.3f\" % new_model_acc)\n",
    "\n",
    "new_model.load_weights(\"./model_weights.h5\")\n",
    "new_model_pred = new_model.predict(x_test)\n",
    "new_model_loadback_acc = accuracy_score(y_true=y_test.argmax(axis=-1), y_pred=new_model_pred.argmax(axis=-1))\n",
    "print(\"Accuracy of loadback best weights: %.3f\" % new_model_loadback_acc)"
   ]
  },
  {
   "cell_type": "code",
   "execution_count": null,
   "metadata": {},
   "outputs": [],
   "source": []
  }
 ],
 "metadata": {
  "kernelspec": {
   "display_name": "Python 3",
   "language": "python",
   "name": "python3"
  },
  "language_info": {
   "codemirror_mode": {
    "name": "ipython",
    "version": 3
   },
   "file_extension": ".py",
   "mimetype": "text/x-python",
   "name": "python",
   "nbconvert_exporter": "python",
   "pygments_lexer": "ipython3",
   "version": "3.7.1"
  }
 },
 "nbformat": 4,
 "nbformat_minor": 2
}
