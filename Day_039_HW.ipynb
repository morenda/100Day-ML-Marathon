{
 "cells": [
  {
   "cell_type": "markdown",
   "metadata": {},
   "source": [
    "## [作業重點]\n",
    "清楚了解 L1, L2 的意義與差異為何，並了解 LASSO 與 Ridge 之間的差異與使用情境"
   ]
  },
  {
   "cell_type": "markdown",
   "metadata": {},
   "source": [
    "## 作業"
   ]
  },
  {
   "cell_type": "markdown",
   "metadata": {},
   "source": [
    "請閱讀相關文獻，並回答下列問題\n",
    "\n",
    "[脊回歸 (Ridge Regression)](https://blog.csdn.net/daunxx/article/details/51578787)\n",
    "[Linear, Ridge, Lasso Regression 本質區別](https://www.zhihu.com/question/38121173)\n",
    "\n",
    "1. LASSO 回歸可以被用來作為 Feature selection 的工具，請了解 LASSO 模型為什麼可用來作 Feature selection\n",
    "2. 當自變數 (X) 存在高度共線性時，Ridge Regression 可以處理這樣的問題嗎?\n"
   ]
  },
  {
   "cell_type": "code",
   "execution_count": 1,
   "metadata": {},
   "outputs": [],
   "source": [
    "#Q1. LASSO 回歸可以被用來作為 Feature selection 的工具，請了解 LASSO 模型為什麼可用來作 Feature selection?"
   ]
  },
  {
   "cell_type": "code",
   "execution_count": 2,
   "metadata": {},
   "outputs": [],
   "source": [
    "#A1: LASSO 模型的係數有機會 shrinkage 到 0 ，有稀疏解的特性，進而可達成 Feature selection 的效果"
   ]
  },
  {
   "cell_type": "code",
   "execution_count": 3,
   "metadata": {},
   "outputs": [],
   "source": [
    "#Q2. 當自變數 (X) 存在高度共線性時，Ridge Regression 可以處理這樣的問題嗎?"
   ]
  },
  {
   "cell_type": "code",
   "execution_count": 4,
   "metadata": {},
   "outputs": [],
   "source": [
    "#A2: 可以，會透過L2正規化來解決。如果用最小二乘法計算線性回歸模型參數的時候，資料集合矩陣（design matrix)X，存在多重共線性，那麼最小二階法對輸入變數中的雜訊非常的敏感，其解會極為不穩定。為了解決這個問題，就有了Ridge Regression。 更仔細地說,當資料集合矩陣X存在多重共線性的時候，最小二階法求得的參數w在數值上會非常的大，如果輸入變數x有一個微小的變動，其反應在輸出結果上也會變得非常大，這就是對輸入變數總的雜訊非常敏感的原因。 如果能限制參數w的增長，那麼模型對輸入w中雜訊的敏感度就會降低。這就是Ridge Regression和Lasso Regrission的核心。 為了限制模型參數w的數值大小，就在模型原來的目標函數上加上一個調整項，這個過程叫做正則化（Regularization）。"
   ]
  }
 ],
 "metadata": {
  "kernelspec": {
   "display_name": "Python 3",
   "language": "python",
   "name": "python3"
  },
  "language_info": {
   "codemirror_mode": {
    "name": "ipython",
    "version": 3
   },
   "file_extension": ".py",
   "mimetype": "text/x-python",
   "name": "python",
   "nbconvert_exporter": "python",
   "pygments_lexer": "ipython3",
   "version": "3.7.1"
  }
 },
 "nbformat": 4,
 "nbformat_minor": 2
}
