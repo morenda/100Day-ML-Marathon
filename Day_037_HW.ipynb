{
 "cells": [
  {
   "cell_type": "markdown",
   "metadata": {},
   "source": [
    "## [作業重點]\n",
    "了解線性回歸的模型發展歷程，並了解優勢與劣勢，以及其使用情境"
   ]
  },
  {
   "cell_type": "markdown",
   "metadata": {},
   "source": [
    "## 作業"
   ]
  },
  {
   "cell_type": "markdown",
   "metadata": {},
   "source": [
    "請閱讀以下相關文獻，並回答以下問題\n",
    "\n",
    "[Linear Regression 詳細介紹](https://brohrer.mcknote.com/zh-Hant/how_machine_learning_works/how_linear_regression_works.html)\n",
    "\n",
    "[Logistics Regression 詳細介紹](https://medium.com/@yehjames/%E8%B3%87%E6%96%99%E5%88%86%E6%9E%90-%E6%A9%9F%E5%99%A8%E5%AD%B8%E7%BF%92-%E7%AC%AC3-3%E8%AC%9B-%E7%B7%9A%E6%80%A7%E5%88%86%E9%A1%9E-%E9%82%8F%E8%BC%AF%E6%96%AF%E5%9B%9E%E6%AD%B8-logistic-regression-%E4%BB%8B%E7%B4%B9-a1a5f47017e5)\n"
   ]
  },
  {
   "cell_type": "markdown",
   "metadata": {},
   "source": [
    "1. 線性回歸模型能夠準確預測非線性關係的資料集嗎?\n",
    "2. 回歸模型是否對資料分布有基本假設?\n"
   ]
  },
  {
   "cell_type": "code",
   "execution_count": 1,
   "metadata": {},
   "outputs": [],
   "source": [
    "#Q1. 線性回歸模型能夠準確預測非線性關係的資料集嗎?"
   ]
  },
  {
   "cell_type": "code",
   "execution_count": 2,
   "metadata": {},
   "outputs": [],
   "source": [
    "#A1: 若是線性回歸 Linear regression 是無法準確預測非線性的資料集的，即使有很多參數，仍然是使用線性的方式來擬和資料。所以當資料具有非線性的關係時，Linear Regression 的表現就會變差。Logistic Regression 雖然是廣義的線性模型，但經過 Sigmoid 函數以及 kernel trick，是可以解決非線性問題的，這部分屬於較進階的課程，若有興趣可參考\n",
    "     #邏輯回歸能否用來做非線性分類？ https://www.zhihu.com/question/29385169\n",
    "     #邏輯回歸能否解決非線性分類問題？ https://zhuanlan.zhihu.com/p/30933101"
   ]
  },
  {
   "cell_type": "code",
   "execution_count": 3,
   "metadata": {},
   "outputs": [],
   "source": [
    "#Q2. 回歸模型是否對資料分布有基本假設?"
   ]
  },
  {
   "cell_type": "code",
   "execution_count": 4,
   "metadata": {},
   "outputs": [],
   "source": [
    "#A2: 通常對資料有五個基本假設,如此頁所示 https://blog.csdn.net/Noob_daniel/article/details/76087829 \n",
    "     #目前已有許多模型可降低對資料的要求也能提出預測,但對模型使用的基本限制有一定的了解,有助於思考訓練不佳的原因。"
   ]
  }
 ],
 "metadata": {
  "kernelspec": {
   "display_name": "Python 3",
   "language": "python",
   "name": "python3"
  },
  "language_info": {
   "codemirror_mode": {
    "name": "ipython",
    "version": 3
   },
   "file_extension": ".py",
   "mimetype": "text/x-python",
   "name": "python",
   "nbconvert_exporter": "python",
   "pygments_lexer": "ipython3",
   "version": "3.7.1"
  }
 },
 "nbformat": 4,
 "nbformat_minor": 2
}
