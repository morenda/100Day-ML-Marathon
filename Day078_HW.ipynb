{
 "cells": [
  {
   "cell_type": "markdown",
   "metadata": {},
   "source": [
    "## Work\n",
    "1. 請嘗試將 preproc_x 替換成以每筆資料的 min/max 進行標準化至 -1 ~ 1 間，再進行訓練\n",
    "2. 請嘗試將 mlp 疊更深 (e.g 5~10 層)，進行訓練後觀察 learning curve 的走勢\n",
    "3. (optional) 請改用 GPU 進行訓練 (如果你有 GPU 的話)，比較使用 CPU 與 GPU 的訓練速度"
   ]
  },
  {
   "cell_type": "code",
   "execution_count": 1,
   "metadata": {},
   "outputs": [
    {
     "name": "stderr",
     "output_type": "stream",
     "text": [
      "'nvidia-smi' 不是內部或外部命令、可執行的程式或批次檔。\n"
     ]
    }
   ],
   "source": [
    "## \n",
    "\"\"\"\n",
    "Your code here (optional)\n",
    "確認硬體資源\n",
    "\"\"\"\n",
    "!nvidia-smi"
   ]
  },
  {
   "cell_type": "code",
   "execution_count": 3,
   "metadata": {},
   "outputs": [],
   "source": [
    "import os\n",
    "import keras\n",
    "\n",
    "# 請嘗試設定 GPU：os.environ\n",
    "os.environ[\"CUDA_DEVICE_ORDER\"]=\"PCI_BUS_ID\" \n",
    "os.environ[\"CUDA_VISIBLE_DEVICES\"] = \"5\""
   ]
  },
  {
   "cell_type": "code",
   "execution_count": 28,
   "metadata": {},
   "outputs": [],
   "source": [
    "train, test = keras.datasets.cifar10.load_data()"
   ]
  },
  {
   "cell_type": "code",
   "execution_count": 29,
   "metadata": {},
   "outputs": [],
   "source": [
    "## 資料前處理\n",
    "\"\"\"\n",
    "Your code here\n",
    "\"\"\"\n",
    "def preproc_x(x, flatten=True):\n",
    "    x = 2*(((x - x.min()) / (x.max() - x.min()))-0.5)\n",
    "    if flatten:\n",
    "        x = x.reshape((len(x), -1))\n",
    "    return x\n",
    "\n",
    "def preproc_y(y, num_classes=10):\n",
    "    if y.shape[-1] == 1:\n",
    "        y = keras.utils.to_categorical(y, num_classes)\n",
    "    return y    "
   ]
  },
  {
   "cell_type": "code",
   "execution_count": 30,
   "metadata": {},
   "outputs": [],
   "source": [
    "x_train, y_train = train\n",
    "x_test, y_test = test\n",
    "\n",
    "# Preproc the inputs\n",
    "x_train = preproc_x(x_train)\n",
    "x_test = preproc_x(x_test)\n",
    "\n",
    "# Preprc the outputs\n",
    "y_train = preproc_y(y_train)\n",
    "y_test = preproc_y(y_test)"
   ]
  },
  {
   "cell_type": "code",
   "execution_count": 41,
   "metadata": {},
   "outputs": [],
   "source": [
    "\"\"\"Code Here\n",
    "建立你的神經網路\n",
    "\"\"\"\n",
    "  \n",
    "def build_mlp(input_shape, output_units=10, num_neurons=[512, 512, 256, 256, 256, 128, 128, 128, 64, 64]):\n",
    "    input_layer = keras.layers.Input(input_shape)\n",
    "    \n",
    "    for i, n_units in enumerate(num_neurons):\n",
    "        if i == 0:\n",
    "            x = keras.layers.Dense(units=n_units, activation=\"relu\", name=\"hidden_layer\"+str(i+1))(input_layer)\n",
    "        else:\n",
    "            x = keras.layers.Dense(units=n_units, activation=\"relu\", name=\"hidden_layer\"+str(i+1))(x)\n",
    "            x = keras.layers.Dropout(rate = 0.3)(x)\n",
    "    \n",
    "    out = keras.layers.Dense(units=output_units, activation=\"softmax\", name=\"output\")(x)\n",
    "    \n",
    "    model = keras.models.Model(inputs=[input_layer], outputs=[out])\n",
    "    return model\n"
   ]
  },
  {
   "cell_type": "code",
   "execution_count": 42,
   "metadata": {},
   "outputs": [
    {
     "name": "stdout",
     "output_type": "stream",
     "text": [
      "Model: \"model_7\"\n",
      "_________________________________________________________________\n",
      "Layer (type)                 Output Shape              Param #   \n",
      "=================================================================\n",
      "input_8 (InputLayer)         (None, 3072)              0         \n",
      "_________________________________________________________________\n",
      "hidden_layer1 (Dense)        (None, 512)               1573376   \n",
      "_________________________________________________________________\n",
      "hidden_layer2 (Dense)        (None, 512)               262656    \n",
      "_________________________________________________________________\n",
      "dropout_24 (Dropout)         (None, 512)               0         \n",
      "_________________________________________________________________\n",
      "hidden_layer3 (Dense)        (None, 256)               131328    \n",
      "_________________________________________________________________\n",
      "dropout_25 (Dropout)         (None, 256)               0         \n",
      "_________________________________________________________________\n",
      "hidden_layer4 (Dense)        (None, 256)               65792     \n",
      "_________________________________________________________________\n",
      "dropout_26 (Dropout)         (None, 256)               0         \n",
      "_________________________________________________________________\n",
      "hidden_layer5 (Dense)        (None, 256)               65792     \n",
      "_________________________________________________________________\n",
      "dropout_27 (Dropout)         (None, 256)               0         \n",
      "_________________________________________________________________\n",
      "hidden_layer6 (Dense)        (None, 128)               32896     \n",
      "_________________________________________________________________\n",
      "dropout_28 (Dropout)         (None, 128)               0         \n",
      "_________________________________________________________________\n",
      "hidden_layer7 (Dense)        (None, 128)               16512     \n",
      "_________________________________________________________________\n",
      "dropout_29 (Dropout)         (None, 128)               0         \n",
      "_________________________________________________________________\n",
      "hidden_layer8 (Dense)        (None, 128)               16512     \n",
      "_________________________________________________________________\n",
      "dropout_30 (Dropout)         (None, 128)               0         \n",
      "_________________________________________________________________\n",
      "hidden_layer9 (Dense)        (None, 64)                8256      \n",
      "_________________________________________________________________\n",
      "dropout_31 (Dropout)         (None, 64)                0         \n",
      "_________________________________________________________________\n",
      "hidden_layer10 (Dense)       (None, 64)                4160      \n",
      "_________________________________________________________________\n",
      "dropout_32 (Dropout)         (None, 64)                0         \n",
      "_________________________________________________________________\n",
      "output (Dense)               (None, 10)                650       \n",
      "=================================================================\n",
      "Total params: 2,177,930\n",
      "Trainable params: 2,177,930\n",
      "Non-trainable params: 0\n",
      "_________________________________________________________________\n"
     ]
    }
   ],
   "source": [
    "model = build_mlp(input_shape=x_train.shape[1:])\n",
    "model.summary()"
   ]
  },
  {
   "cell_type": "code",
   "execution_count": 38,
   "metadata": {},
   "outputs": [],
   "source": [
    "## 超參數設定\n",
    "LEARNING_RATE = 0.001\n",
    "EPOCHS = 100\n",
    "BATCH_SIZE = 256"
   ]
  },
  {
   "cell_type": "code",
   "execution_count": 39,
   "metadata": {},
   "outputs": [],
   "source": [
    "optimizer = keras.optimizers.Adam(lr=LEARNING_RATE)\n",
    "model.compile(loss=\"categorical_crossentropy\", metrics=[\"accuracy\"], optimizer=optimizer)"
   ]
  },
  {
   "cell_type": "code",
   "execution_count": 26,
   "metadata": {},
   "outputs": [
    {
     "name": "stdout",
     "output_type": "stream",
     "text": [
      "Train on 50000 samples, validate on 10000 samples\n",
      "Epoch 1/100\n",
      "50000/50000 [==============================] - 8s 158us/step - loss: 2.1761 - accuracy: 0.1628 - val_loss: 1.9577 - val_accuracy: 0.2482\n",
      "Epoch 2/100\n",
      "50000/50000 [==============================] - 8s 155us/step - loss: 1.9644 - accuracy: 0.2355 - val_loss: 1.9056 - val_accuracy: 0.2653\n",
      "Epoch 3/100\n",
      "50000/50000 [==============================] - 8s 157us/step - loss: 1.8877 - accuracy: 0.2602 - val_loss: 1.8492 - val_accuracy: 0.2956\n",
      "Epoch 4/100\n",
      "50000/50000 [==============================] - 8s 159us/step - loss: 1.8380 - accuracy: 0.2856 - val_loss: 1.8327 - val_accuracy: 0.3226\n",
      "Epoch 5/100\n",
      "50000/50000 [==============================] - 8s 160us/step - loss: 1.7887 - accuracy: 0.3152 - val_loss: 1.7548 - val_accuracy: 0.3387\n",
      "Epoch 6/100\n",
      "50000/50000 [==============================] - 8s 166us/step - loss: 1.7458 - accuracy: 0.3347 - val_loss: 1.7031 - val_accuracy: 0.3559\n",
      "Epoch 7/100\n",
      "50000/50000 [==============================] - 8s 167us/step - loss: 1.7111 - accuracy: 0.3533 - val_loss: 1.7024 - val_accuracy: 0.3709\n",
      "Epoch 8/100\n",
      "50000/50000 [==============================] - 9s 172us/step - loss: 1.6798 - accuracy: 0.3685 - val_loss: 1.6896 - val_accuracy: 0.3881\n",
      "Epoch 9/100\n",
      "50000/50000 [==============================] - 9s 171us/step - loss: 1.6495 - accuracy: 0.3819 - val_loss: 1.6809 - val_accuracy: 0.3920\n",
      "Epoch 10/100\n",
      "50000/50000 [==============================] - 9s 178us/step - loss: 1.6281 - accuracy: 0.3932 - val_loss: 1.6774 - val_accuracy: 0.3934\n",
      "Epoch 11/100\n",
      "50000/50000 [==============================] - 9s 177us/step - loss: 1.5903 - accuracy: 0.4104 - val_loss: 1.6518 - val_accuracy: 0.3861\n",
      "Epoch 12/100\n",
      "50000/50000 [==============================] - 9s 183us/step - loss: 1.5656 - accuracy: 0.4205 - val_loss: 1.5951 - val_accuracy: 0.4153\n",
      "Epoch 13/100\n",
      "50000/50000 [==============================] - 9s 185us/step - loss: 1.5332 - accuracy: 0.4329 - val_loss: 1.6022 - val_accuracy: 0.4238\n",
      "Epoch 14/100\n",
      "50000/50000 [==============================] - 9s 185us/step - loss: 1.5082 - accuracy: 0.4412 - val_loss: 1.5593 - val_accuracy: 0.4293\n",
      "Epoch 15/100\n",
      "50000/50000 [==============================] - 10s 190us/step - loss: 1.4859 - accuracy: 0.4531 - val_loss: 1.5597 - val_accuracy: 0.4370\n",
      "Epoch 16/100\n",
      "50000/50000 [==============================] - 9s 189us/step - loss: 1.4543 - accuracy: 0.4628 - val_loss: 1.5773 - val_accuracy: 0.4236\n",
      "Epoch 17/100\n",
      "50000/50000 [==============================] - 10s 194us/step - loss: 1.4487 - accuracy: 0.4661 - val_loss: 1.5293 - val_accuracy: 0.4479\n",
      "Epoch 18/100\n",
      "50000/50000 [==============================] - 10s 197us/step - loss: 1.4347 - accuracy: 0.4731 - val_loss: 1.5551 - val_accuracy: 0.4376\n",
      "Epoch 19/100\n",
      "50000/50000 [==============================] - 10s 195us/step - loss: 1.3988 - accuracy: 0.4844 - val_loss: 1.5293 - val_accuracy: 0.4491\n",
      "Epoch 20/100\n",
      "50000/50000 [==============================] - 11s 225us/step - loss: 1.3880 - accuracy: 0.4892 - val_loss: 1.5089 - val_accuracy: 0.4545\n",
      "Epoch 21/100\n",
      "50000/50000 [==============================] - 11s 215us/step - loss: 1.3643 - accuracy: 0.4984 - val_loss: 1.5311 - val_accuracy: 0.4506\n",
      "Epoch 22/100\n",
      "50000/50000 [==============================] - 10s 205us/step - loss: 1.3483 - accuracy: 0.5065 - val_loss: 1.5347 - val_accuracy: 0.4508\n",
      "Epoch 23/100\n",
      "50000/50000 [==============================] - 10s 207us/step - loss: 1.3483 - accuracy: 0.5062 - val_loss: 1.5010 - val_accuracy: 0.4660\n",
      "Epoch 24/100\n",
      "50000/50000 [==============================] - 10s 205us/step - loss: 1.3100 - accuracy: 0.5212 - val_loss: 1.5274 - val_accuracy: 0.4637\n",
      "Epoch 25/100\n",
      "50000/50000 [==============================] - 10s 207us/step - loss: 1.3076 - accuracy: 0.5209 - val_loss: 1.5115 - val_accuracy: 0.4626\n",
      "Epoch 26/100\n",
      "50000/50000 [==============================] - 11s 212us/step - loss: 1.2863 - accuracy: 0.5325 - val_loss: 1.5132 - val_accuracy: 0.4653\n",
      "Epoch 27/100\n",
      "50000/50000 [==============================] - 10s 210us/step - loss: 1.2640 - accuracy: 0.5383 - val_loss: 1.5100 - val_accuracy: 0.4612\n",
      "Epoch 28/100\n",
      "50000/50000 [==============================] - 11s 215us/step - loss: 1.2628 - accuracy: 0.5370 - val_loss: 1.4990 - val_accuracy: 0.4663\n",
      "Epoch 29/100\n",
      "50000/50000 [==============================] - 11s 218us/step - loss: 1.2715 - accuracy: 0.5406 - val_loss: 1.5186 - val_accuracy: 0.4679\n",
      "Epoch 30/100\n",
      "50000/50000 [==============================] - 11s 215us/step - loss: 1.2445 - accuracy: 0.5507 - val_loss: 1.4956 - val_accuracy: 0.4723\n",
      "Epoch 31/100\n",
      "50000/50000 [==============================] - 11s 217us/step - loss: 1.2301 - accuracy: 0.5538 - val_loss: 1.4737 - val_accuracy: 0.4872\n",
      "Epoch 32/100\n",
      "50000/50000 [==============================] - 11s 219us/step - loss: 1.2068 - accuracy: 0.5606 - val_loss: 1.4887 - val_accuracy: 0.4721\n",
      "Epoch 33/100\n",
      "50000/50000 [==============================] - 11s 217us/step - loss: 1.2088 - accuracy: 0.5613 - val_loss: 1.5197 - val_accuracy: 0.4638\n",
      "Epoch 34/100\n",
      "50000/50000 [==============================] - 11s 218us/step - loss: 1.1915 - accuracy: 0.5700 - val_loss: 1.4886 - val_accuracy: 0.4872\n",
      "Epoch 35/100\n",
      "50000/50000 [==============================] - 11s 220us/step - loss: 1.1675 - accuracy: 0.5762 - val_loss: 1.4851 - val_accuracy: 0.4962\n",
      "Epoch 36/100\n",
      "50000/50000 [==============================] - 11s 220us/step - loss: 1.1709 - accuracy: 0.5775 - val_loss: 1.4744 - val_accuracy: 0.4996\n",
      "Epoch 37/100\n",
      "50000/50000 [==============================] - 11s 219us/step - loss: 1.1671 - accuracy: 0.5787 - val_loss: 1.5192 - val_accuracy: 0.4817\n",
      "Epoch 38/100\n",
      "50000/50000 [==============================] - 11s 222us/step - loss: 1.1503 - accuracy: 0.5880 - val_loss: 1.4998 - val_accuracy: 0.4815\n",
      "Epoch 39/100\n",
      "50000/50000 [==============================] - 11s 221us/step - loss: 1.1372 - accuracy: 0.5931 - val_loss: 1.4989 - val_accuracy: 0.4924\n",
      "Epoch 40/100\n",
      "50000/50000 [==============================] - 11s 218us/step - loss: 1.1221 - accuracy: 0.5960 - val_loss: 1.4888 - val_accuracy: 0.4999\n",
      "Epoch 41/100\n",
      "50000/50000 [==============================] - 11s 225us/step - loss: 1.0983 - accuracy: 0.6043 - val_loss: 1.4984 - val_accuracy: 0.5008\n",
      "Epoch 42/100\n",
      "50000/50000 [==============================] - 11s 224us/step - loss: 1.1071 - accuracy: 0.6001 - val_loss: 1.4820 - val_accuracy: 0.4924\n",
      "Epoch 43/100\n",
      "50000/50000 [==============================] - 11s 219us/step - loss: 1.1296 - accuracy: 0.5968 - val_loss: 1.5102 - val_accuracy: 0.4997\n",
      "Epoch 44/100\n",
      "50000/50000 [==============================] - 11s 226us/step - loss: 1.0972 - accuracy: 0.6041 - val_loss: 1.4970 - val_accuracy: 0.5029\n",
      "Epoch 45/100\n",
      "50000/50000 [==============================] - 11s 224us/step - loss: 1.0926 - accuracy: 0.6113 - val_loss: 1.5274 - val_accuracy: 0.4817\n",
      "Epoch 46/100\n",
      "50000/50000 [==============================] - 11s 222us/step - loss: 1.0869 - accuracy: 0.6121 - val_loss: 1.4948 - val_accuracy: 0.4963\n",
      "Epoch 47/100\n",
      "50000/50000 [==============================] - 11s 228us/step - loss: 1.0568 - accuracy: 0.6206 - val_loss: 1.4879 - val_accuracy: 0.5113\n",
      "Epoch 48/100\n",
      "50000/50000 [==============================] - 12s 231us/step - loss: 1.0415 - accuracy: 0.6262 - val_loss: 1.4910 - val_accuracy: 0.5049\n",
      "Epoch 49/100\n",
      "50000/50000 [==============================] - 11s 229us/step - loss: 1.0467 - accuracy: 0.6248 - val_loss: 1.5250 - val_accuracy: 0.5035\n",
      "Epoch 50/100\n",
      "50000/50000 [==============================] - 12s 237us/step - loss: 1.0267 - accuracy: 0.6319 - val_loss: 1.5203 - val_accuracy: 0.5022\n",
      "Epoch 51/100\n",
      "50000/50000 [==============================] - 12s 245us/step - loss: 1.0337 - accuracy: 0.6320 - val_loss: 1.5671 - val_accuracy: 0.5020\n",
      "Epoch 52/100\n",
      "50000/50000 [==============================] - 12s 232us/step - loss: 1.0355 - accuracy: 0.6321 - val_loss: 1.5154 - val_accuracy: 0.5091\n",
      "Epoch 53/100\n",
      "50000/50000 [==============================] - 12s 236us/step - loss: 1.0049 - accuracy: 0.6404 - val_loss: 1.5328 - val_accuracy: 0.5108\n",
      "Epoch 54/100\n",
      "50000/50000 [==============================] - 11s 230us/step - loss: 1.0172 - accuracy: 0.6393 - val_loss: 1.5500 - val_accuracy: 0.4970\n",
      "Epoch 55/100\n"
     ]
    },
    {
     "name": "stdout",
     "output_type": "stream",
     "text": [
      "50000/50000 [==============================] - 11s 225us/step - loss: 0.9908 - accuracy: 0.6478 - val_loss: 1.5246 - val_accuracy: 0.5020\n",
      "Epoch 56/100\n",
      "50000/50000 [==============================] - 11s 220us/step - loss: 0.9796 - accuracy: 0.6541 - val_loss: 1.5054 - val_accuracy: 0.5078\n",
      "Epoch 57/100\n",
      "50000/50000 [==============================] - 11s 218us/step - loss: 0.9810 - accuracy: 0.6507 - val_loss: 1.5211 - val_accuracy: 0.5113\n",
      "Epoch 58/100\n",
      "50000/50000 [==============================] - 11s 219us/step - loss: 0.9793 - accuracy: 0.6549 - val_loss: 1.5116 - val_accuracy: 0.5073\n",
      "Epoch 59/100\n",
      "50000/50000 [==============================] - 11s 220us/step - loss: 0.9884 - accuracy: 0.6532 - val_loss: 1.5186 - val_accuracy: 0.5092\n",
      "Epoch 60/100\n",
      "50000/50000 [==============================] - 11s 215us/step - loss: 0.9524 - accuracy: 0.6624 - val_loss: 1.5343 - val_accuracy: 0.5189\n",
      "Epoch 61/100\n",
      "50000/50000 [==============================] - 11s 218us/step - loss: 0.9735 - accuracy: 0.6580 - val_loss: 1.5590 - val_accuracy: 0.5087\n",
      "Epoch 62/100\n",
      "50000/50000 [==============================] - 11s 219us/step - loss: 0.9723 - accuracy: 0.6585 - val_loss: 1.5658 - val_accuracy: 0.5031\n",
      "Epoch 63/100\n",
      "50000/50000 [==============================] - 11s 217us/step - loss: 0.9668 - accuracy: 0.6605 - val_loss: 1.5223 - val_accuracy: 0.5121\n",
      "Epoch 64/100\n",
      "50000/50000 [==============================] - 11s 218us/step - loss: 0.9550 - accuracy: 0.6616 - val_loss: 1.5111 - val_accuracy: 0.5022\n",
      "Epoch 65/100\n",
      "50000/50000 [==============================] - 11s 218us/step - loss: 0.9712 - accuracy: 0.6573 - val_loss: 1.5390 - val_accuracy: 0.5136\n",
      "Epoch 66/100\n",
      "50000/50000 [==============================] - 11s 219us/step - loss: 0.9291 - accuracy: 0.6711 - val_loss: 1.5648 - val_accuracy: 0.5186\n",
      "Epoch 67/100\n",
      "50000/50000 [==============================] - 11s 216us/step - loss: 0.9473 - accuracy: 0.6701 - val_loss: 1.5074 - val_accuracy: 0.5189\n",
      "Epoch 68/100\n",
      "50000/50000 [==============================] - 11s 221us/step - loss: 0.9245 - accuracy: 0.6760 - val_loss: 1.5525 - val_accuracy: 0.5121\n",
      "Epoch 69/100\n",
      "50000/50000 [==============================] - 11s 218us/step - loss: 0.9390 - accuracy: 0.6724 - val_loss: 1.5171 - val_accuracy: 0.5137\n",
      "Epoch 70/100\n",
      "50000/50000 [==============================] - 11s 214us/step - loss: 0.9329 - accuracy: 0.6718 - val_loss: 1.5375 - val_accuracy: 0.5186\n",
      "Epoch 71/100\n",
      "50000/50000 [==============================] - 11s 219us/step - loss: 0.9714 - accuracy: 0.6639 - val_loss: 1.5140 - val_accuracy: 0.5222\n",
      "Epoch 72/100\n",
      "50000/50000 [==============================] - 11s 218us/step - loss: 0.9433 - accuracy: 0.6700 - val_loss: 1.5539 - val_accuracy: 0.5205\n",
      "Epoch 73/100\n",
      "50000/50000 [==============================] - 11s 214us/step - loss: 0.9320 - accuracy: 0.6757 - val_loss: 1.5256 - val_accuracy: 0.5075\n",
      "Epoch 74/100\n",
      "50000/50000 [==============================] - 11s 224us/step - loss: 0.9395 - accuracy: 0.6731 - val_loss: 1.5210 - val_accuracy: 0.5119\n",
      "Epoch 75/100\n",
      "50000/50000 [==============================] - 12s 232us/step - loss: 0.9242 - accuracy: 0.6781 - val_loss: 1.5800 - val_accuracy: 0.5209\n",
      "Epoch 76/100\n",
      "50000/50000 [==============================] - 11s 223us/step - loss: 0.9068 - accuracy: 0.6849 - val_loss: 1.5378 - val_accuracy: 0.5170\n",
      "Epoch 77/100\n",
      "50000/50000 [==============================] - 12s 238us/step - loss: 0.9273 - accuracy: 0.6774 - val_loss: 1.6082 - val_accuracy: 0.5164\n",
      "Epoch 78/100\n",
      "50000/50000 [==============================] - 12s 237us/step - loss: 0.8958 - accuracy: 0.6829 - val_loss: 1.6165 - val_accuracy: 0.4921\n",
      "Epoch 79/100\n",
      "50000/50000 [==============================] - 11s 227us/step - loss: 0.9180 - accuracy: 0.6788 - val_loss: 1.5199 - val_accuracy: 0.5117\n",
      "Epoch 80/100\n",
      "50000/50000 [==============================] - 11s 223us/step - loss: 0.8780 - accuracy: 0.6915 - val_loss: 1.5711 - val_accuracy: 0.5120\n",
      "Epoch 81/100\n",
      "50000/50000 [==============================] - 11s 228us/step - loss: 0.9154 - accuracy: 0.6794 - val_loss: 1.5380 - val_accuracy: 0.5186\n",
      "Epoch 82/100\n",
      "50000/50000 [==============================] - 11s 224us/step - loss: 0.8931 - accuracy: 0.6862 - val_loss: 1.5287 - val_accuracy: 0.5130\n",
      "Epoch 83/100\n",
      "50000/50000 [==============================] - 11s 222us/step - loss: 0.8806 - accuracy: 0.6923 - val_loss: 1.5347 - val_accuracy: 0.5230\n",
      "Epoch 84/100\n",
      "50000/50000 [==============================] - 11s 229us/step - loss: 0.8762 - accuracy: 0.6947 - val_loss: 1.5905 - val_accuracy: 0.5190\n",
      "Epoch 85/100\n",
      "50000/50000 [==============================] - 11s 228us/step - loss: 0.8519 - accuracy: 0.7028 - val_loss: 1.5948 - val_accuracy: 0.5197\n",
      "Epoch 86/100\n",
      "50000/50000 [==============================] - 11s 226us/step - loss: 0.8693 - accuracy: 0.6978 - val_loss: 1.5765 - val_accuracy: 0.5221\n",
      "Epoch 87/100\n",
      "50000/50000 [==============================] - 11s 223us/step - loss: 0.8928 - accuracy: 0.6887 - val_loss: 1.5605 - val_accuracy: 0.5204\n",
      "Epoch 88/100\n",
      "50000/50000 [==============================] - 11s 227us/step - loss: 0.8748 - accuracy: 0.6980 - val_loss: 1.5970 - val_accuracy: 0.5204\n",
      "Epoch 89/100\n",
      "50000/50000 [==============================] - 11s 226us/step - loss: 0.8528 - accuracy: 0.7040 - val_loss: 1.6237 - val_accuracy: 0.5186\n",
      "Epoch 90/100\n",
      "50000/50000 [==============================] - 11s 223us/step - loss: 0.8543 - accuracy: 0.7009 - val_loss: 1.6150 - val_accuracy: 0.5111\n",
      "Epoch 91/100\n",
      "50000/50000 [==============================] - 11s 229us/step - loss: 0.9089 - accuracy: 0.6917 - val_loss: 1.6397 - val_accuracy: 0.5136\n",
      "Epoch 92/100\n",
      "50000/50000 [==============================] - 11s 210us/step - loss: 0.8721 - accuracy: 0.6998 - val_loss: 1.5813 - val_accuracy: 0.5232\n",
      "Epoch 93/100\n",
      "50000/50000 [==============================] - 8s 165us/step - loss: 0.9002 - accuracy: 0.6887 - val_loss: 1.5664 - val_accuracy: 0.5133\n",
      "Epoch 94/100\n",
      "50000/50000 [==============================] - 8s 154us/step - loss: 0.8908 - accuracy: 0.6933 - val_loss: 1.6310 - val_accuracy: 0.5118\n",
      "Epoch 95/100\n",
      "50000/50000 [==============================] - 8s 151us/step - loss: 0.8973 - accuracy: 0.6914 - val_loss: 1.5713 - val_accuracy: 0.5109\n",
      "Epoch 96/100\n",
      "50000/50000 [==============================] - 8s 152us/step - loss: 0.8638 - accuracy: 0.7018 - val_loss: 1.5786 - val_accuracy: 0.5153\n",
      "Epoch 97/100\n",
      "50000/50000 [==============================] - 7s 150us/step - loss: 0.8346 - accuracy: 0.7117 - val_loss: 1.5810 - val_accuracy: 0.5123\n",
      "Epoch 98/100\n",
      "50000/50000 [==============================] - 8s 154us/step - loss: 0.8804 - accuracy: 0.6981 - val_loss: 1.5878 - val_accuracy: 0.5156\n",
      "Epoch 99/100\n",
      "50000/50000 [==============================] - 8s 151us/step - loss: 0.8511 - accuracy: 0.7068 - val_loss: 1.6046 - val_accuracy: 0.5145\n",
      "Epoch 100/100\n",
      "50000/50000 [==============================] - 8s 152us/step - loss: 0.8363 - accuracy: 0.7118 - val_loss: 1.5993 - val_accuracy: 0.5227\n"
     ]
    },
    {
     "data": {
      "text/plain": [
       "<keras.callbacks.callbacks.History at 0x170190f4198>"
      ]
     },
     "execution_count": 26,
     "metadata": {},
     "output_type": "execute_result"
    }
   ],
   "source": [
    "model.fit(x_train, y_train, \n",
    "          epochs=EPOCHS, \n",
    "          batch_size=BATCH_SIZE, \n",
    "          validation_data=(x_test, y_test), \n",
    "          shuffle=True)"
   ]
  },
  {
   "cell_type": "code",
   "execution_count": 16,
   "metadata": {},
   "outputs": [
    {
     "data": {
      "image/png": "[encoded data removed]",
      "text/plain": [
       "<Figure size 432x288 with 1 Axes>"
      ]
     },
     "metadata": {
      "needs_background": "light"
     },
     "output_type": "display_data"
    },
    {
     "data": {
      "image/png": "[encoded data removed]",
      "text/plain": [
       "<Figure size 432x288 with 1 Axes>"
      ]
     },
     "metadata": {
      "needs_background": "light"
     },
     "output_type": "display_data"
    }
   ],
   "source": [
    "import matplotlib.pyplot as plt\n",
    "\n",
    "\n",
    "train_loss = model.history.history[\"loss\"]\n",
    "valid_loss = model.history.history[\"val_loss\"]\n",
    "\n",
    "train_acc = model.history.history[\"accuracy\"]\n",
    "valid_acc = model.history.history[\"val_accuracy\"]\n",
    "\n",
    "plt.plot(range(len(train_loss)), train_loss, label=\"train loss\")\n",
    "plt.plot(range(len(valid_loss)), valid_loss, label=\"valid loss\")\n",
    "plt.legend()\n",
    "plt.title(\"Loss_5 Layers\")\n",
    "plt.show()\n",
    "\n",
    "plt.plot(range(len(train_acc)), train_acc, label=\"train accuracy\")\n",
    "plt.plot(range(len(valid_acc)), valid_acc, label=\"valid accuracy\")\n",
    "plt.legend()\n",
    "plt.title(\"Accuracy_5 Layers\")\n",
    "plt.show()"
   ]
  },
  {
   "cell_type": "code",
   "execution_count": 27,
   "metadata": {},
   "outputs": [
    {
     "data": {
      "image/png": "[encoded data removed]",
      "text/plain": [
       "<Figure size 432x288 with 1 Axes>"
      ]
     },
     "metadata": {
      "needs_background": "light"
     },
     "output_type": "display_data"
    },
    {
     "data": {
      "image/png": "[encoded data removed]",
      "text/plain": [
       "<Figure size 432x288 with 1 Axes>"
      ]
     },
     "metadata": {
      "needs_background": "light"
     },
     "output_type": "display_data"
    }
   ],
   "source": [
    "import matplotlib.pyplot as plt\n",
    "\n",
    "\n",
    "train_loss = model.history.history[\"loss\"]\n",
    "valid_loss = model.history.history[\"val_loss\"]\n",
    "\n",
    "train_acc = model.history.history[\"accuracy\"]\n",
    "valid_acc = model.history.history[\"val_accuracy\"]\n",
    "\n",
    "plt.plot(range(len(train_loss)), train_loss, label=\"train loss\")\n",
    "plt.plot(range(len(valid_loss)), valid_loss, label=\"valid loss\")\n",
    "plt.legend()\n",
    "plt.title(\"Loss_10 Layers\")\n",
    "plt.show()\n",
    "\n",
    "plt.plot(range(len(train_acc)), train_acc, label=\"train accuracy\")\n",
    "plt.plot(range(len(valid_acc)), valid_acc, label=\"valid accuracy\")\n",
    "plt.legend()\n",
    "plt.title(\"Accuracy_10 Layers\")\n",
    "plt.show()"
   ]
  },
  {
   "cell_type": "markdown",
   "metadata": {},
   "source": [
    "## 結論 : 10層的驗證準確度與5層相差不多, 但5層經過100次的迭代後仍未收斂. 另外, 有設dropout  機制的模型表現較佳."
   ]
  },
  {
   "cell_type": "code",
   "execution_count": null,
   "metadata": {},
   "outputs": [],
   "source": []
  }
 ],
 "metadata": {
  "kernelspec": {
   "display_name": "Python 3",
   "language": "python",
   "name": "python3"
  },
  "language_info": {
   "codemirror_mode": {
    "name": "ipython",
    "version": 3
   },
   "file_extension": ".py",
   "mimetype": "text/x-python",
   "name": "python",
   "nbconvert_exporter": "python",
   "pygments_lexer": "ipython3",
   "version": "3.7.1"
  }
 },
 "nbformat": 4,
 "nbformat_minor": 2
}
